{
 "cells": [
  {
   "cell_type": "markdown",
   "id": "ba54e5ea",
   "metadata": {},
   "source": [
    "# Exercícios"
   ]
  },
  {
   "cell_type": "markdown",
   "id": "3a0aa710",
   "metadata": {},
   "source": [
    "## Exercício 1\n",
    "\n",
    "Com base na classe `Arvore` implementada em aula, implemente os seguintes métodos:"
   ]
  },
  {
   "cell_type": "code",
   "execution_count": null,
   "id": "34d23724",
   "metadata": {},
   "outputs": [],
   "source": [
    "# Inserir código do nó aqui"
   ]
  },
  {
   "cell_type": "markdown",
   "id": "a3fb07c7",
   "metadata": {},
   "source": [
    "Percurso pre ordem"
   ]
  },
  {
   "cell_type": "code",
   "execution_count": null,
   "id": "20e7eeff",
   "metadata": {},
   "outputs": [],
   "source": []
  },
  {
   "cell_type": "markdown",
   "id": "43ba0549",
   "metadata": {},
   "source": [
    "Percurso pós ordem"
   ]
  },
  {
   "cell_type": "code",
   "execution_count": null,
   "id": "f22225be",
   "metadata": {},
   "outputs": [],
   "source": []
  },
  {
   "cell_type": "markdown",
   "id": "7a6903b0",
   "metadata": {},
   "source": [
    "## Exercício 2\n",
    "\n",
    "**Gerenciador de clientes por número de CPF**\n",
    "\n",
    "**Contexto**: Uma loja precisa manter o cadastro de clientes ordenado pelo número de CPF para facilitar buscas rápidas e inserções.\n",
    "\n",
    "**Enunciado**:\n",
    "Implemente uma BST onde cada nó representa um cliente com:\n",
    "\n",
    "- `cpf (chave de ordenação)`\n",
    "- `nome`\n",
    "- `email`\n",
    "\n",
    "Implemente métodos para:\n",
    "\n",
    "- Inserir um novo cliente.\n",
    "- Buscar um cliente por CPF.\n",
    "- Listar todos os clientes em ordem crescente de CPF.\n",
    "\n",
    "**Desafio extra**: Modifique a árvore para impedir a inserção de dois CPFs iguais."
   ]
  },
  {
   "cell_type": "code",
   "execution_count": null,
   "id": "3b555838",
   "metadata": {},
   "outputs": [],
   "source": []
  }
 ],
 "metadata": {
  "kernelspec": {
   "display_name": "Python 3",
   "language": "python",
   "name": "python3"
  },
  "language_info": {
   "name": "python",
   "version": "3.13.5"
  }
 },
 "nbformat": 4,
 "nbformat_minor": 5
}
