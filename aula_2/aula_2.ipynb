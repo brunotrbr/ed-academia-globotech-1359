{
 "cells": [
  {
   "cell_type": "markdown",
   "metadata": {},
   "source": [
    "# Aula 2\n",
    "\n",
    "- Métodos de busca\n",
    "- Métodos de ordenação"
   ]
  },
  {
   "attachments": {},
   "cell_type": "markdown",
   "metadata": {},
   "source": [
    "## Métodos de busca\n",
    "\n",
    "### Busca sequencial\n",
    "- Percorre sequencialmente os elementos da lista até achar ou não"
   ]
  },
  {
   "cell_type": "code",
   "execution_count": null,
   "metadata": {},
   "outputs": [],
   "source": [
    "from random import sample\n",
    "\n",
    "# Gerar uma lista de 50 números aleatórios entre 0 e 200, sem repetições\n",
    "def gerar_lista_randomica_sem_repeticoes(qtde: int):\n",
    "    populacao = range(201) # range(201) vai de 0 a 200\n",
    "    minha_lista = sample(populacao, qtde) # sample escolhe uma quantidade de elementos únicos aleatórios\n",
    "    return minha_lista"
   ]
  },
  {
   "cell_type": "code",
   "execution_count": null,
   "metadata": {},
   "outputs": [],
   "source": [
    "minha_lista = gerar_lista_randomica_sem_repeticoes(50)\n",
    "print(minha_lista)"
   ]
  },
  {
   "cell_type": "markdown",
   "metadata": {},
   "source": [
    "[99, 193, 141, 157, 114, 189, 152, 101, 43, 18, 34, 130, 35, 8, 15]\n",
    "\n",
    "iteração 1, procurando o 15. percorro 14 posições da lista até achar:\n",
    "[99, 193, 141, 157, 114, 189, 152, 101, 43, 18, 34, 130, 35, 8, 15]\n",
    "\n",
    "achei o 15, troco com o primeiro da lista\n",
    "[15, 193, 141, 157, 114, 189, 152, 101, 43, 18, 34, 130, 35, 8, 99]\n",
    "\n",
    "iteração 2, procurando o 15. percorro 1 posições da lista até achar:\n",
    "[15, 193, 141, 157, 114, 189, 152, 101, 43, 18, 34, 130, 35, 8, 99]"
   ]
  },
  {
   "cell_type": "code",
   "execution_count": null,
   "metadata": {},
   "outputs": [],
   "source": [
    "def busca_sequencial(lista_dados, valor_alvo):\n",
    "    # Inicializa o contador de comparações\n",
    "    contador_comparacoes = 0\n",
    "    \n",
    "    # Percorre cada item na lista\n",
    "    for item in lista_dados:\n",
    "        contador_comparacoes += 1  # Incrementa o contador\n",
    "        \n",
    "        # Verifica se o item é igual ao valor alvo\n",
    "        if item == valor_alvo:\n",
    "            print(\"contagem de comparações:\", contador_comparacoes)\n",
    "            return item, contador_comparacoes\n",
    "    \n",
    "    # Se não encontrou o valor alvo na lista\n",
    "    print(\"contagem de comparações:\", contador_comparacoes)\n",
    "    return None, contador_comparacoes"
   ]
  },
  {
   "cell_type": "code",
   "execution_count": null,
   "metadata": {},
   "outputs": [],
   "source": [
    "print(minha_lista)\n",
    "valor_encontrado, contagem_comparacoes = busca_sequencial(minha_lista, 106)\n",
    "print(valor_encontrado)\n",
    "print(contagem_comparacoes)"
   ]
  },
  {
   "cell_type": "code",
   "execution_count": null,
   "metadata": {},
   "outputs": [],
   "source": [
    "print(minha_lista)\n",
    "valor_encontrado, contagem_comparacoes = busca_sequencial(minha_lista, 0)\n",
    "print(valor_encontrado)\n",
    "print(contagem_comparacoes)"
   ]
  },
  {
   "cell_type": "code",
   "execution_count": null,
   "metadata": {},
   "outputs": [],
   "source": [
    "# Base\n",
    "# FUNÇÃO busca_sequencial(lista_dados, valor_alvo):\n",
    "#     DEFINIR contador_comparacoes como 0\n",
    "    \n",
    "#     PARA CADA item EM lista_dados:\n",
    "#         INCREMENTAR contador_comparacoes em 1\n",
    "        \n",
    "#         SE valor_alvo É IGUAL A item:\n",
    "#             IMPRIMIR \"contagem de comparações: \", contador_comparacoes\n",
    "#             RETORNAR item, contador_comparacoes\n",
    "    \n",
    "#     IMPRIMIR \"contagem de comparações: \", contador_comparacoes\n",
    "#     RETORNAR NULO, contador_comparacoes\n",
    "# FIM FUNÇÃO\n",
    "def busca_sequencial(lista_dados, valor_alvo):\n",
    "    # Inicializa o contador de comparações\n",
    "    contador_comparacoes = 0\n",
    "    \n",
    "    # Percorre cada item na lista\n",
    "    for item in lista_dados:\n",
    "        contador_comparacoes += 1  # Incrementa o contador\n",
    "        \n",
    "        # Verifica se o item é igual ao valor alvo\n",
    "        if item == valor_alvo:\n",
    "            print(\"contagem de comparações:\", contador_comparacoes)\n",
    "            return item, contador_comparacoes\n",
    "    \n",
    "    # Se não encontrou o valor alvo na lista\n",
    "    print(\"contagem de comparações:\", contador_comparacoes)\n",
    "    return None, contador_comparacoes\n"
   ]
  },
  {
   "cell_type": "code",
   "execution_count": null,
   "metadata": {},
   "outputs": [],
   "source": [
    "minha_lista = gerar_lista_randomica_sem_repeticoes(50)\n",
    "print(minha_lista)"
   ]
  },
  {
   "cell_type": "code",
   "execution_count": null,
   "metadata": {},
   "outputs": [],
   "source": [
    "# Importante: Alterar os valores que são procurados com base na lista gerada\n",
    "\n",
    "valor_encontrado, contagem = busca_sequencial(minha_lista, 13)\n",
    "print(valor_encontrado, contagem)\n",
    "print()\n",
    "\n",
    "valor_encontrado, contagem = busca_sequencial(minha_lista, 155)\n",
    "print(valor_encontrado, contagem)\n",
    "print()\n",
    "\n",
    "valor_encontrado, contagem = busca_sequencial(minha_lista, 95)\n",
    "print(valor_encontrado, contagem)\n",
    "print()\n",
    "\n",
    "valor_encontrado, contagem = busca_sequencial(minha_lista, 140)\n",
    "print(valor_encontrado, contagem)\n",
    "print()\n",
    "\n",
    "valor_encontrado, contagem = busca_sequencial(minha_lista, 175)\n",
    "print(valor_encontrado, contagem)\n",
    "print()\n",
    "\n",
    "valor_encontrado, contagem = busca_sequencial(minha_lista, 91)\n",
    "print(valor_encontrado, contagem)\n",
    "print()\n"
   ]
  },
  {
   "attachments": {},
   "cell_type": "markdown",
   "metadata": {},
   "source": [
    "### Busca sequencial com transposição\n",
    "\n",
    "- Estratégia de design: *transform-and-conquer*\n",
    "- Percorre sequencialmente os elementos da lista até achar ou não. Caso ache, troca a posição com o elemento da esquerda, \"passando na frente\" para caso ocorra uma nova busca pelo mesmo em sequência"
   ]
  },
  {
   "cell_type": "code",
   "execution_count": null,
   "metadata": {},
   "outputs": [],
   "source": [
    "# Transpondo valores\n",
    "# FUNÇÃO busca_sequencial_com_transposicao(lista_dados, valor_alvo):\n",
    "#     DEFINIR contador_comparacoes como 0\n",
    "    \n",
    "#     PARA CADA indice, item EM ENUMERATE(lista_dados):\n",
    "#         INCREMENTAR contador_comparacoes em 1\n",
    "        \n",
    "#         SE valor_alvo É IGUAL A item:\n",
    "#             IMPRIMIR \"Contagem de Comparações: \", contador_comparacoes\n",
    "            \n",
    "#             SE indice É MAIOR QUE 0:\n",
    "#                 DEFINIR valor_encontrado = lista_dados[indice]\n",
    "#                 DEFINIR lista_dados[indice] = lista_dados[indice - 1]\n",
    "#                 DEFINIR lista_dados[indice - 1] = valor_encontrado\n",
    "#                 IMPRIMIR \"Elemento '\", valor_alvo, \"' transposto de índice \", indice, \" para \", indice - 1, \".\"\n",
    "            \n",
    "#             RETORNAR valor_alvo, contador_comparacoes\n",
    "    \n",
    "#     IMPRIMIR \"Contagem de Comparações: \", contador_comparacoes\n",
    "#     RETORNAR NULO, contador_comparacoes\n",
    "# FIM FUNÇÃO\n"
   ]
  },
  {
   "cell_type": "code",
   "execution_count": null,
   "metadata": {},
   "outputs": [],
   "source": [
    "minha_lista = gerar_lista_randomica_sem_repeticoes(50)\n",
    "print(minha_lista)"
   ]
  },
  {
   "cell_type": "code",
   "execution_count": null,
   "metadata": {},
   "outputs": [],
   "source": [
    "# Importante: Alterar os valores que são procurados com base na lista gerada\n",
    "print(minha_lista)"
   ]
  },
  {
   "cell_type": "code",
   "execution_count": null,
   "metadata": {},
   "outputs": [],
   "source": [
    "# Importante: Alterar os valores que são procurados com base na lista gerada\n",
    "\n",
    "valor_encontrado, contagem = busca_sequencial_com_transposicao(minha_lista, 13)\n",
    "print(valor_encontrado, contagem)\n",
    "print()\n",
    "\n",
    "valor_encontrado, contagem = busca_sequencial_com_transposicao(minha_lista, 155)\n",
    "print(valor_encontrado, contagem)\n",
    "print()\n",
    "\n",
    "valor_encontrado, contagem = busca_sequencial_com_transposicao(minha_lista, 95)\n",
    "print(valor_encontrado, contagem)\n",
    "print()\n",
    "\n",
    "valor_encontrado, contagem = busca_sequencial_com_transposicao(minha_lista, 140)\n",
    "print(valor_encontrado, contagem)\n",
    "print()\n",
    "\n",
    "valor_encontrado, contagem = busca_sequencial_com_transposicao(minha_lista, 175)\n",
    "print(valor_encontrado, contagem)\n",
    "print()\n",
    "\n",
    "valor_encontrado, contagem = busca_sequencial_com_transposicao(minha_lista, 91)\n",
    "print(valor_encontrado, contagem)\n",
    "print()\n"
   ]
  },
  {
   "attachments": {},
   "cell_type": "markdown",
   "metadata": {},
   "source": [
    "### Busca sequencial trocando valor com o primeiro da lista\n",
    "\n",
    "- Estratégia de design: *transform-and-conquer*\n",
    "- Percorre sequencialmente os elementos da lista até achar ou não. Caso ache, troca a posição com o primeiro elemento da lista e \"passando na frente\" para caso ocorra uma nova busca pelo mesmo em sequência"
   ]
  },
  {
   "cell_type": "code",
   "execution_count": null,
   "metadata": {},
   "outputs": [],
   "source": [
    "# Colocando em primeiro\n",
    "# FUNÇÃO busca_sequencial_com_mtf(lista_dados, valor_alvo):\n",
    "#     DEFINIR contador_comparacoes COMO 0\n",
    "    \n",
    "#     PARA CADA indice, item EM ENUMERATE(lista_dados):\n",
    "#         INCREMENTAR contador_comparacoes EM 1\n",
    "        \n",
    "#         SE valor_alvo É IGUAL A item:\n",
    "#             IMPRIMIR \"Contagem de Comparações: \", contador_comparacoes\n",
    "            \n",
    "#             SE indice É MAIOR QUE 0:\n",
    "#                 DEFINIR valor_encontrado = REMOVER_ITEM(lista_dados, indice) // Equivalente a data_list.pop(index)\n",
    "#                 INSERIR_ITEM(lista_dados, 0, valor_encontrado) // Equivalente a data_list.insert(0, found_value)\n",
    "#                 IMPRIMIR \"Elemento '\", valor_alvo, \"' movido para a primeira posição (índice 0).\"\n",
    "            \n",
    "#             RETORNAR valor_alvo, contador_comparacoes\n",
    "    \n",
    "#     IMPRIMIR \"Contagem de Comparações: \", contador_comparacoes\n",
    "#     RETORNAR NULO, contador_comparacoes\n",
    "# FIM FUNÇÃO\n",
    "# mtf = move to front\n",
    "def busca_sequencial_com_mtf(lista_dados, valor_alvo):\n",
    "    # Inicializa o contador de comparações\n",
    "    contador_comparacoes = 0\n",
    "    \n",
    "    # Percorre cada item na lista\n",
    "    for indice, item in enumerate(lista_dados):\n",
    "        contador_comparacoes += 1  # Incrementa o contador\n",
    "\n",
    "        # Verifica se o item é igual ao valor alvo\n",
    "        if item == valor_alvo:\n",
    "            if indice > 0:\n",
    "                valor_encontrado = lista_dados.pop(indice) # estamos removendo o item achado da lista\n",
    "                lista_dados.insert(0, valor_encontrado)\n",
    "            print(\"contagem de comparações:\", contador_comparacoes)\n",
    "            return item, contador_comparacoes\n",
    "    \n",
    "    # Se não encontrou o valor alvo na lista\n",
    "    print(\"contagem de comparações:\", contador_comparacoes)\n",
    "    return None, contador_comparacoes"
   ]
  },
  {
   "cell_type": "code",
   "execution_count": null,
   "metadata": {},
   "outputs": [],
   "source": [
    "minha_lista = gerar_lista_randomica_sem_repeticoes(50)\n",
    "print(minha_lista)"
   ]
  },
  {
   "cell_type": "code",
   "execution_count": null,
   "metadata": {},
   "outputs": [],
   "source": [
    "# Importante: Alterar os valores que são procurados com base na lista gerada\n",
    "\n",
    "valor_encontrado, contagem = busca_sequencial_com_mtf(minha_lista, 103)\n",
    "print(valor_encontrado, contagem)\n",
    "print()\n",
    "\n",
    "valor_encontrado, contagem = busca_sequencial_com_mtf(minha_lista, 103)\n",
    "print(valor_encontrado, contagem)\n",
    "print()\n",
    "\n",
    "valor_encontrado, contagem = busca_sequencial_com_mtf(minha_lista, 95)\n",
    "print(valor_encontrado, contagem)\n",
    "print()\n",
    "\n",
    "valor_encontrado, contagem = busca_sequencial_com_mtf(minha_lista, 140)\n",
    "print(valor_encontrado, contagem)\n",
    "print()\n",
    "\n",
    "valor_encontrado, contagem = busca_sequencial_com_mtf(minha_lista, 175)\n",
    "print(valor_encontrado, contagem)\n",
    "print()\n",
    "\n",
    "valor_encontrado, contagem = busca_sequencial_com_mtf(minha_lista, 91)\n",
    "print(valor_encontrado, contagem)\n",
    "print()\n"
   ]
  },
  {
   "attachments": {},
   "cell_type": "markdown",
   "metadata": {},
   "source": [
    "### Busca sequencial para listas ordenadas\n",
    "- Estratégia de design: *brute force* mais inteligente\n",
    "- Caso o elemento que estou na lista seja maior que o que procuro, posso encerrar a procura pois ele não está na lista."
   ]
  },
  {
   "cell_type": "code",
   "execution_count": null,
   "metadata": {},
   "outputs": [],
   "source": [
    "# Parando o algoritmo em caso de a lista estar ordenada e o elemento for maior que o procurado\n",
    "\n",
    "# FUNÇÃO busca_sequencial_ordenada(lista_dados, valor_alvo):\n",
    "#     DEFINIR contador_comparacoes COMO 0\n",
    "    \n",
    "#     PARA CADA item EM lista_dados:\n",
    "#         INCREMENTAR contador_comparacoes EM 1\n",
    "        \n",
    "#         SE item É MAIOR QUE valor_alvo:\n",
    "#             IMPRIMIR \"Contagem de Comparações: \", contador_comparacoes, \" (Parada antecipada: \", item, \" > \", valor_alvo, \")\"\n",
    "#             RETORNAR NULO, contador_comparacoes // O valor não está na lista\n",
    "        \n",
    "#         SE item É IGUAL A valor_alvo:\n",
    "#             IMPRIMIR \"Contagem de Comparações: \", contador_comparacoes\n",
    "#             RETORNAR valor_alvo, contador_comparacoes\n",
    "            \n",
    "#     IMPRIMIR \"Contagem de Comparações: \", contador_comparacoes\n",
    "#     RETORNAR NULO, contador_comparacoes\n",
    "# FIM FUNÇÃO"
   ]
  },
  {
   "cell_type": "code",
   "execution_count": null,
   "metadata": {},
   "outputs": [],
   "source": [
    "minha_lista = gerar_lista_randomica_sem_repeticoes(50)\n",
    "print(minha_lista)"
   ]
  },
  {
   "cell_type": "code",
   "execution_count": null,
   "metadata": {},
   "outputs": [],
   "source": [
    "# Importante: Alterar os valores que são procurados com base na lista gerada\n",
    "minha_lista = gerar_lista_randomica_sem_repeticoes(50)\n",
    "minha_lista.sort()\n",
    "print(minha_lista)"
   ]
  },
  {
   "cell_type": "code",
   "execution_count": null,
   "metadata": {},
   "outputs": [],
   "source": [
    "# Importante: Alterar os valores que são procurados com base na lista gerada\n",
    "\n",
    "valor_encontrado, contagem = busca_sequencial_ordenada(minha_lista, 13)\n",
    "print(valor_encontrado, contagem)\n",
    "print()\n",
    "\n",
    "valor_encontrado, contagem = busca_sequencial_ordenada(minha_lista, 155)\n",
    "print(valor_encontrado, contagem)\n",
    "print()\n",
    "\n",
    "valor_encontrado, contagem = busca_sequencial_ordenada(minha_lista, 95)\n",
    "print(valor_encontrado, contagem)\n",
    "print()\n",
    "\n",
    "valor_encontrado, contagem = busca_sequencial_ordenada(minha_lista, 140)\n",
    "print(valor_encontrado, contagem)\n",
    "print()\n",
    "\n",
    "valor_encontrado, contagem = busca_sequencial_ordenada(minha_lista, 175)\n",
    "print(valor_encontrado, contagem)\n",
    "print()\n",
    "\n",
    "valor_encontrado, contagem = busca_sequencial_ordenada(minha_lista, 91)\n",
    "print(valor_encontrado, contagem)\n",
    "print()\n"
   ]
  },
  {
   "attachments": {},
   "cell_type": "markdown",
   "metadata": {},
   "source": [
    "### Busca binária\n",
    "\n",
    "- O array deve estar ordenado\n",
    "- Reduzimos pela metade o espaço de busca a cada iteração\n",
    "- Facilitar nosso trabalho para pesquisar coisas."
   ]
  },
  {
   "cell_type": "markdown",
   "metadata": {},
   "source": [
    "Na primeira iteração na lista, procurando por \"Lucas Eduardo\", vamos ao ponto central da lista (arredondando para baixo). Neste caso, \"Luiza Dinarte\".\n",
    "\n",
    "> [\"Paulo Azevedo\", \"Pedro Bueno\", \"Cassio Bueno\", \"Miguel De Cervantes\", \"Luiza Dinarte\", \"Lucas Eduardo\", \"Michael Foucauldt\", \"Jorge Jose\", \"Zão Silva\" ]\n",
    "\n",
    "Como \"Lucas Eduardo\" está depois de \"Miguel De Cervantes\" na lista, reajustamos a posição 0 da lista para que seja o item depois do meio da lista, \"Luiza Dinarte\". Agora vamos novamente para o ponto central da nova lista, neste caso, \"Michael Foucauldt\".\n",
    "\n",
    "> [\"Luiza Dinarte\", \"Lucas Eduardo\", \"Michael Foucauldt\", \"Jorge Jose\", \"Zão Silva\" ]\n",
    "\n",
    "\n",
    "Como \"Lucas Eduardo\" está antes de \"Michael Foucauldt\", reajustamos o final da lista para que seja o item antes do meio da lista, \"Lucas Eduardo\".\n",
    "\n",
    "> [\"Luiza Dinarte\", \"Lucas Eduardo\"]\n",
    "\n",
    "Agora procuramos novamente no meio da lista, arredondado para baixo. Neste caso, \"Luiza Dinarte\". Como \"Lucas Eduardo\" vem depois de \"Luiza Dinarte\", ajustamos o início da lista novamente, ficando somente com \"Lucas Eduardo\" na lista.\n",
    "> [\"Lucas Eduardo\"]\n",
    "\n",
    "Se o ítem restante na lista é o que procuramos, retornamos ele. Caso contrário, não retornamos nada e informamos que não foi encontrado."
   ]
  },
  {
   "cell_type": "code",
   "execution_count": null,
   "metadata": {},
   "outputs": [],
   "source": [
    "# Busca Binária\n",
    "from math import floor\n",
    "\n",
    "def busca_binaria(lista_dados, valor_alvo):\n",
    "    limite_inferior = 0\n",
    "    limite_superior = len(lista_dados) -1\n",
    "\n",
    "    while limite_inferior <= limite_superior:\n",
    "        meio = floor((limite_inferior + limite_superior) / 2)\n",
    "        # meio = (inferior + superior) // 2\n",
    "        # meio = int((inferior + superior) / 2))\n",
    "\n",
    "        if lista_dados[meio] == valor_alvo:\n",
    "            return lista_dados[meio]\n",
    "        elif lista_dados[meio] < valor_alvo:\n",
    "            limite_inferior = meio + 1\n",
    "        else:\n",
    "            limite_superior = meio - 1\n",
    "    return None\n",
    "\n",
    "\n",
    "# FUNÇÃO busca_binaria(lista_dados, valor_alvo):\n",
    "#     DEFINIR limite_inferior = 0\n",
    "#     DEFINIR limite_superior = tamanho(lista_dados) - 1\n",
    "    \n",
    "#     ENQUANTO limite_inferior É MENOR OU IGUAL A limite_superior:\n",
    "#         DEFINIR meio = ARREDONDAR_PARA_BAIXO((limite_inferior + limite_superior) DIVIDIDO POR 2)\n",
    "        \n",
    "#         IMPRIMIR \"inferior: \", limite_inferior, \", superior: \", limite_superior, \", meio: \", meio\n",
    "        \n",
    "#         SE lista_dados[meio] É IGUAL A valor_alvo:\n",
    "#             RETORNAR lista_dados[meio] // O valor foi encontrado no meio\n",
    "#         SENÃO SE lista_dados[meio] É MENOR QUE valor_alvo:\n",
    "#             DEFINIR limite_inferior = meio + 1 // Busca na metade superior da lista\n",
    "#         SENÃO: // lista_dados[meio] É MAIOR QUE valor_alvo\n",
    "#             DEFINIR limite_superior = meio - 1 // Busca na metade inferior da lista\n",
    "    \n",
    "#     RETORNAR NULO // O valor não foi encontrado na lista\n",
    "# FIM FUNÇÃO"
   ]
  },
  {
   "cell_type": "code",
   "execution_count": null,
   "metadata": {},
   "outputs": [],
   "source": [
    "minha_lista = gerar_lista_randomica_sem_repeticoes(50)\n",
    "print(minha_lista)"
   ]
  },
  {
   "cell_type": "code",
   "execution_count": null,
   "metadata": {},
   "outputs": [],
   "source": [
    "sorted_lista = sorted(minha_lista)\n",
    "encontrado = busca_binaria(sorted_lista, 147)\n",
    "print(f'Valor encontrado: {encontrado}')\n"
   ]
  },
  {
   "cell_type": "markdown",
   "metadata": {},
   "source": [
    "-----------------------"
   ]
  },
  {
   "cell_type": "markdown",
   "metadata": {},
   "source": [
    "## Aplicações da Busca Sequencial e da Busca Binária na Computação\n",
    "\n",
    "\n",
    "### Exemplos Reais de Aplicação da Busca Sequencial (Sequencial)\n",
    "\n",
    "A busca Sequencial é utilizada quando os dados **não estão ordenados** ou quando o custo de ordenar **não compensa**, principalmente em listas pequenas ou altamente dinâmicas.\n",
    "\n",
    "#### Exemplos na Computação:\n",
    "\n",
    "- **Verificar se um arquivo existe em uma pasta não indexada:**  \n",
    "  Exemplo: Navegar por uma pasta do sistema operacional sem que ela tenha uma indexação automática.\n",
    "\n",
    "- **Buscar um contato em uma agenda que salva os nomes na ordem de cadastro:**  \n",
    "  Exemplo: Aplicativos simples que não ordenam os dados.\n",
    "\n",
    "- **Buscar em listas pequenas ou que mudam o tempo todo:**  \n",
    "  Exemplo: Verificar se um usuário está online numa lista com os 50 últimos acessos.\n",
    "\n",
    "- **Filtrar resultados exibidos na interface (UI) de um aplicativo:**  \n",
    "  Exemplo: Verificar se um item está na lista dos últimos produtos visualizados.\n",
    "\n",
    "&nbsp;\n",
    "\n",
    "### Exemplos Reais de Aplicação da Busca Binária\n",
    "\n",
    "A busca binária é usada quando os dados estão **previamente ordenados**, seja naturalmente, seja através de alguma estrutura que mantém essa ordem.\n",
    "\n",
    "#### Exemplos na Computação:\n",
    "\n",
    "- **Pesquisa em banco de dados com índice ordenado (Árvore B/B+):**  \n",
    "  Exemplo: `SELECT` com filtro em colunas indexadas no PostgreSQL ou MySQL.\n",
    "\n",
    "- **Busca de palavras em dicionários digitais (autocorreção, T9, etc.):**  \n",
    "  Exemplo: Sistemas de sugestão de palavras no teclado do celular.\n",
    "\n",
    "- **Sistemas de arquivos com diretórios indexados:**  \n",
    "  Exemplo: NTFS (Windows) e ext4 (Linux) usam estruturas que aceleram buscas.\n",
    "\n",
    "- **Busca de nomes em listas ordenadas de clientes, produtos ou alunos:**  \n",
    "  Exemplo: Um sistema de gestão escolar que mantém os alunos sempre ordenados.\n",
    "\n",
    "&nbsp;\n",
    "\n",
    "### Casos em que **Não Vale a Pena Ordenar para Buscar**\n",
    "\n",
    "Ordenar só vale a pena se você vai fazer várias buscas ou se o dado precisa estar ordenado por outros motivos. Caso contrário, pode ser mais custoso do que fazer uma busca Sequencial.\n",
    "\n",
    "#### Exemplos na prática:\n",
    "\n",
    "1. **Listas muito pequenas:**  \n",
    "   Exemplo: Lista de tarefas com 10 ou 20 itens.  \n",
    "   Buscar linearmente é mais rápido do que ordenar + buscar.\n",
    "\n",
    "2. **Listas que mudam o tempo todo:**  \n",
    "   ➝ Exemplo: Logs de eventos em tempo real, que recebem dados a todo momento.  \n",
    "   Não faz sentido ordenar a cada novo item.\n",
    "\n",
    "3. **Consultas únicas e esporádicas:**  \n",
    "   Exemplo: Conferir se um nome está na lista de convidados de um evento.  \n",
    "   Se é só uma busca, não vale ordenar.\n",
    "\n",
    "4. **Quando a ordem dos dados importa (ordem de chegada):**  \n",
    "   Exemplo: Fila de atendimento (FIFO), onde quem chegou primeiro deve ser atendido primeiro.\n",
    "\n",
    "5. **Sistemas com pouco poder de processamento:**  \n",
    "   Exemplo: Microcontroladores, dispositivos embarcados e IoT.  \n",
    "   Evitar ordenações custosas para economizar memória e processamento.\n"
   ]
  },
  {
   "cell_type": "markdown",
   "metadata": {},
   "source": [
    "-----------------------"
   ]
  },
  {
   "attachments": {},
   "cell_type": "markdown",
   "metadata": {},
   "source": [
    "## Métodos de ordenação\n",
    "\n",
    "Métodos de ordenação baseados em comparação de chaves\n",
    "Bubble sort, Merge sort, Insertion Sort, Quick Sort, etc\n",
    "\n",
    "Métodos de ordenação não baseados em comparação de chaves\n",
    "Bucket sort, Radix sort"
   ]
  },
  {
   "attachments": {},
   "cell_type": "markdown",
   "metadata": {},
   "source": [
    "### Bubble Sort\n",
    "\n",
    "- Estratégia de design: *brute force*\n",
    "- Realiza da comparação de um elemento com todos os demais elementos da lista, e vai movendo os maiores deles para o final da lista.\n",
    "\n",
    "Casos bons para o algoritmo:\n",
    "\n",
    "- Listas pequenas\n",
    "- Quando a performance não é necessária, por ser simples e fácil de implementar.\n",
    "  \n",
    "\n",
    "#### Exemplo de funcionamento\n",
    "https://www.youtube.com/watch?v=Iv3vgjM8Pv4&ab_channel=kamalyassin\n",
    "https://www.cs.usfca.edu/~galles/visualization/ComparisonSort.html\n",
    "\n",
    "![Bubble Sort](https://upload.wikimedia.org/wikipedia/commons/c/c8/Bubble-sort-example-300px.gif)"
   ]
  },
  {
   "cell_type": "code",
   "execution_count": null,
   "metadata": {},
   "outputs": [],
   "source": [
    "# Bubble Sort\n",
    "\n",
    "# FUNÇÃO bubble_sort(lista):\n",
    "#     DEFINIR n = TAMANHO(lista)\n",
    "    \n",
    "#     PARA i DE 0 ATÉ n-1:\n",
    "#         PARA j DE 0 ATÉ n-2: // n-1 para evitar índice fora do limite ao acessar lista[j+1]\n",
    "#             SE lista[j] É MAIOR QUE lista[j+1]:\n",
    "#                 TROCAR lista[j] COM lista[j+1]\n",
    "#                 // Equivalente a:\n",
    "#                 // DEFINIR temp = lista[j]\n",
    "#                 // DEFINIR lista[j] = lista[j+1]\n",
    "#                 // DEFINIR lista[j+1] = temp\n",
    "                \n",
    "#     RETORNAR lista\n",
    "# FIM FUNÇÃO"
   ]
  },
  {
   "cell_type": "code",
   "execution_count": null,
   "metadata": {},
   "outputs": [],
   "source": [
    "minha_lista = gerar_lista_randomica_sem_repeticoes(10)\n",
    "print(minha_lista)"
   ]
  },
  {
   "cell_type": "code",
   "execution_count": null,
   "metadata": {},
   "outputs": [],
   "source": [
    "lista_ordenada = bubble_sort(minha_lista)\n",
    "print(lista_ordenada)"
   ]
  },
  {
   "cell_type": "markdown",
   "metadata": {},
   "source": [
    "#### Comparação Big-O\n",
    "Abaixo podemos visualizar a complexidade de alguns dos algoritmos desenvolvidos:\n",
    " \n",
    "Algoritmo         | melhor caso       | média               | pior caso\n",
    "---------         | ------            | ------              | ------\n",
    "Bubble Sort       | O(n<sup>2</sup>)  | O(n<sup>2</sup>)    | O(n<sup>2</sup>)"
   ]
  },
  {
   "cell_type": "markdown",
   "metadata": {},
   "source": [
    "--------------------------"
   ]
  },
  {
   "attachments": {},
   "cell_type": "markdown",
   "metadata": {},
   "source": [
    "### Insertion Sort\n",
    "\n",
    "- Estratégia de design: brute force\n",
    "- Percorre a lista e insere o elemento na ordem correta.\n",
    "\n",
    "Casos bons para o algoritmo:\n",
    "\n",
    "- Lista pequena\n",
    "- Listas parcialmente ordenadas\n",
    "\n",
    "#### Exemplo de funcionamento\n",
    "https://www.youtube.com/watch?v=ROalU379l3U&ab_channel=AlgoRythmics\n",
    "https://www.cs.usfca.edu/~galles/visualization/ComparisonSort.html\n",
    "\n",
    "\n",
    "![Insertion Sort](https://upload.wikimedia.org/wikipedia/commons/0/0f/Insertion-sort-example-300px.gif)"
   ]
  },
  {
   "cell_type": "code",
   "execution_count": null,
   "metadata": {},
   "outputs": [],
   "source": [
    "# Insertion Sort\n",
    "# FUNÇÃO insertion_sort(minha_lista):\n",
    "#     DEFINIR i = 0\n",
    "#     DEFINIR j = 0\n",
    "#     DEFINIR temporario = 0\n",
    "    \n",
    "#     ENQUANTO j É MENOR QUE TAMANHO(minha_lista):\n",
    "#         DEFINIR temporario = minha_lista[j]\n",
    "#         DEFINIR i = j - 1\n",
    "        \n",
    "#         ENQUANTO i É MAIOR OU IGUAL A 0 E minha_lista[i] É MAIOR QUE temporario:\n",
    "#             DEFINIR minha_lista[i+1] = minha_lista[i]\n",
    "#             DECREMENTAR i EM 1\n",
    "            \n",
    "#         DEFINIR minha_lista[i+1] = temporario\n",
    "#         INCREMENTAR j EM 1\n",
    "        \n",
    "#     RETORNAR minha_lista\n",
    "# FIM FUNÇÃO"
   ]
  },
  {
   "cell_type": "markdown",
   "metadata": {},
   "source": [
    "No Insertion Sort, para cada item da lista vamos percorrer ela da posição `0` até a posição `i = j - 1`, analisando se o elemento da posição `i` é maior que o da posição `j` (o `temporario`). Se for, avança os maiores para a próxima casa, e por fim adiciona o `temporário` na posição correta (`i + 1`).\n",
    " \n",
    "No melhor dos casos, quando a lista já está ordenada, ele vai percorrer uma vez só a lista de tamanho `n`, o que nos dá uma complexidade `O(n)`. No pior dos casos, em que a ordem da lista está invertida, percorreremos 2 vezes a lista `n`, e a complexidade deste algoritmo passa a ser `O(n`<sup>`2`</sup>`)`. Na média, seu desempenho é `O(n`<sup>`2`</sup>`)`."
   ]
  },
  {
   "cell_type": "code",
   "execution_count": null,
   "metadata": {},
   "outputs": [],
   "source": [
    "minha_lista = gerar_lista_randomica_sem_repeticoes(10)\n",
    "print(minha_lista)"
   ]
  },
  {
   "cell_type": "code",
   "execution_count": null,
   "metadata": {},
   "outputs": [],
   "source": [
    "minha_lista = insertion_sort(minha_lista)\n",
    "print(minha_lista)"
   ]
  },
  {
   "cell_type": "markdown",
   "metadata": {},
   "source": [
    "#### Comparação Big-O\n",
    "Abaixo podemos visualizar a complexidade de alguns dos algoritmos desenvolvidos:\n",
    " \n",
    "Algoritmo         | melhor caso       | média               | pior caso\n",
    "---------         | ------            | ------              | ------\n",
    "Bubble Sort       | O(n<sup>2</sup>)  | O(n<sup>2</sup>)    | O(n<sup>2</sup>)\n",
    "Insertion Sort    | O(n)              | O(n<sup>2</sup>)    | O(n<sup>2</sup>)"
   ]
  },
  {
   "cell_type": "markdown",
   "metadata": {},
   "source": [
    "--------------------------"
   ]
  },
  {
   "attachments": {},
   "cell_type": "markdown",
   "metadata": {},
   "source": [
    "### Merge Sort\n",
    "\n",
    "- Estratégia de design: *divide-and-conquer* (divisão e conquista)\n",
    "- Realiza o ordenamento na etapa *conquer*\n",
    "\n",
    "> Dada uma entrada de tamanho `n`, dividir e conquistar sugere que a entrada original seja dividida em `k` subconjuntos menores distintos em que `1 < k < n`, gerando assim `k` subproblemas. Estes subproblemas devem ser resolvidos, e por fim deve existir um método que combine estes subproblemas resolvidos em uma solução para o todo.\n",
    ">\n",
    "> Caso a entrada `n` seja grande, de forma que os subproblemas `k` ainda sejam grandes após a aplicação da divisão, o método de divisão pode ser reaplicado até encontrar subproblemas menores que possam ser tratados.\n",
    "\n",
    "&nbsp;\n",
    "\n",
    "Em outras palavras:\n",
    "\n",
    "> O algoritmo Merge Sort utiliza a estratégia de divisão e conquista, dividindo um array de tamanho `n` em partes menores (de tamanho `n/2`) e ordenando estas partes menores na hora de realizar a união delas. Ao chegar na entrada de tamanho `n`, ela está ordenada.\n",
    "\n",
    "&nbsp;\n",
    "\n",
    "Casos bons para o algoritmo:\n",
    "\n",
    "- Apresenta uma boa performance em todos os casos\n",
    "\n",
    "#### Exemplo de funcionamento\n",
    "https://www.youtube.com/watch?v=XaqR3G_NVoo&t=181s&ab_channel=AlgoRythmics\n",
    "https://www.cs.usfca.edu/~galles/visualization/ComparisonSort.html\n",
    "\n",
    "![Merge Sort](https://upload.wikimedia.org/wikipedia/commons/c/cc/Merge-sort-example-300px.gif)"
   ]
  },
  {
   "cell_type": "code",
   "execution_count": null,
   "metadata": {},
   "outputs": [],
   "source": [
    "# Merge Sort\n",
    "\n",
    "# FUNÇÃO chamar_merge_sort(minha_lista):\n",
    "#     RETORNAR merge_sort(minha_lista, 0, TAMANHO(minha_lista) - 1)\n",
    "# FIM FUNÇÃO\n",
    "\n",
    "# FUNÇÃO merge_sort(minha_lista, inferior, superior):\n",
    "#     SE inferior É MENOR QUE superior:\n",
    "#         DEFINIR meio = ARREDONDAR_PARA_BAIXO((inferior + superior) DIVIDIDO POR 2)\n",
    "        \n",
    "#         // Chamadas recursivas para dividir as sub-listas\n",
    "#         CHAMAR merge_sort(minha_lista, inferior, meio)\n",
    "#         CHAMAR merge_sort(minha_lista, meio + 1, superior)\n",
    "        \n",
    "#         // Combina as sub-listas ordenadas\n",
    "#         RETORNAR unir_merge_sort(minha_lista, inferior, meio, superior)\n",
    "# FIM FUNÇÃO\n",
    "\n",
    "# FUNÇÃO unir_merge_sort(minha_lista, inferior, meio, superior):\n",
    "#     DEFINIR h = inferior\n",
    "#     DEFINIR i = inferior\n",
    "#     DEFINIR j = meio + 1\n",
    "#     DEFINIR lista_auxiliar = CRIAR_LISTA(TAMANHO(minha_lista)) // Ex: [-1] * len(my_list)\n",
    "    \n",
    "#     // Combina as duas sub-listas em lista_auxiliar\n",
    "#     ENQUANTO h É MENOR OU IGUAL A meio E j É MENOR OU IGUAL A superior:\n",
    "#         SE minha_lista[h] É MENOR OU IGUAL A minha_lista[j]:\n",
    "#             DEFINIR lista_auxiliar[i] = minha_lista[h]\n",
    "#             INCREMENTAR h EM 1\n",
    "#         SENÃO:\n",
    "#             DEFINIR lista_auxiliar[i] = minha_lista[j]\n",
    "#             INCREMENTAR j EM 1\n",
    "#         INCREMENTAR i EM 1\n",
    "        \n",
    "#     // Copia elementos restantes da primeira sub-lista, se houver\n",
    "#     SE h É MAIOR QUE meio:\n",
    "#         DEFINIR k = j\n",
    "#         ENQUANTO k É MENOR OU IGUAL A superior:\n",
    "#             DEFINIR lista_auxiliar[i] = minha_lista[k]\n",
    "#             INCREMENTAR k EM 1\n",
    "#             INCREMENTAR i EM 1\n",
    "#     // Copia elementos restantes da segunda sub-lista, se houver\n",
    "#     SENÃO:\n",
    "#         DEFINIR k = h\n",
    "#         ENQUANTO k É MENOR OU IGUAL A meio:\n",
    "#             DEFINIR lista_auxiliar[i] = minha_lista[k]\n",
    "#             INCREMENTAR k EM 1\n",
    "#             INCREMENTAR i EM 1\n",
    "            \n",
    "#     // Copia os elementos ordenados da lista_auxiliar de volta para a minha_lista original\n",
    "#     DEFINIR k = inferior\n",
    "#     ENQUANTO k É MENOR OU IGUAL A superior:\n",
    "#         DEFINIR minha_lista[k] = lista_auxiliar[k]\n",
    "#         INCREMENTAR k EM 1\n",
    "        \n",
    "#     RETORNAR minha_lista\n",
    "# FIM FUNÇÃO"
   ]
  },
  {
   "cell_type": "code",
   "execution_count": null,
   "metadata": {},
   "outputs": [],
   "source": [
    "minha_lista = gerar_lista_randomica_sem_repeticoes(10)\n",
    "print(minha_lista)"
   ]
  },
  {
   "cell_type": "code",
   "execution_count": null,
   "metadata": {},
   "outputs": [],
   "source": [
    "minha_lista = chamar_merge_sort(minha_lista)\n",
    "print(minha_lista)"
   ]
  },
  {
   "attachments": {},
   "cell_type": "markdown",
   "metadata": {},
   "source": [
    "Podemos observar que o algoritmo Merge Sort realiza sucessivas chamadas recursivas no array de tamanho `n`, dividindo do `índice menor` até o `meio` do array, e do `meio + 1` até o `índice maior`, até que o subproblema (chamado de `sp` mais adiante) tenha tamanho `1`,\n",
    " \n",
    "Quando ele tem tamanho `1`, começa a retornar, fazendo a ordenação do `sp[indice menor, meio]` com o `sp(meio+1, indice maior)`. Para facilitar o entendimento, observe a representação do funcionamento desse algoritmo em formato de árvore, ilustrando as chamadas realizadas para um array `a` de tamanho `n = 10`\n",
    "\n",
    "<img src=\"https://s3-sa-east-1.amazonaws.com/lcpi/1da35c08-ffba-4259-a396-a8b6572abb1e.png\" width=600>"
   ]
  },
  {
   "cell_type": "markdown",
   "metadata": {},
   "source": [
    "#### Comparação Big-O\n",
    "Abaixo podemos visualizar a complexidade de alguns dos algoritmos desenvolvidos:\n",
    " \n",
    "Algoritmo         | melhor caso       | média               | pior caso\n",
    "---------         | ------            | ------              | ------\n",
    "Bubble Sort       | O(n<sup>2</sup>)  | O(n<sup>2</sup>)    | O(n<sup>2</sup>)\n",
    "Insertion Sort    | O(n)              | O(n<sup>2</sup>)    | O(n<sup>2</sup>)\n",
    "Merge Sort        | O(n log n)        | O(n log n)          | O(n log n)"
   ]
  },
  {
   "cell_type": "markdown",
   "metadata": {},
   "source": [
    "--------------------------"
   ]
  },
  {
   "attachments": {},
   "cell_type": "markdown",
   "metadata": {},
   "source": [
    "### Quick Sort\n",
    "\n",
    "- Estratégia de design: *divide-and-conquer*\n",
    "- Realiza o ordenamento na etapa *divide*\n",
    "- Divide a entrada `n` em `k` partes menores distintas, tal que `n > k > 1`, gerando assim `k` subproblemas. Resolve (ordena) os sub problemas menores na hora de dividir, para que quando for juntar os pedaços `k` até formar a entrada de tamanho `n`, os elementos já estejam todos ordenados.\n",
    "\n",
    "&nbsp;\n",
    "\n",
    "Enquanto o `Merge Sort` divide o array de tamanho `n` em `k` partes menores e ordena na união deles (ou seja, o trabalho está na `conquista` da estratégia), o `Quick Sort` divide o array em `k` partes menores, mas realiza o ordenamento na separação do array (ou seja, o trabalho está na `divisão`). Quando precisa juntar o array, ele já está ordenado, só é necessário agrupar os valores.\n",
    "\n",
    "&nbsp;\n",
    "\n",
    "Casos bons para o algoritmo:\n",
    "\n",
    "- Apresenta uma boa performance em todos os casos. No pior caso, pode apresentar um desempenho pior que o MergeSort.\n",
    "\n",
    "#### Exemplo de funcionamento\n",
    "https://www.youtube.com/watch?v=ywWBy6J5gz8&ab_channel=AlgoRythmics\n",
    "https://www.cs.usfca.edu/~galles/visualization/ComparisonSort.html\n",
    "\n",
    "![Quick Sort](https://upload.wikimedia.org/wikipedia/commons/6/6a/Sorting_quicksort_anim.gif)\n",
    "\n",
    "https://favtutor.com/resources/images/uploads/mceu_46432632011643441346270.png"
   ]
  },
  {
   "cell_type": "code",
   "execution_count": null,
   "metadata": {},
   "outputs": [],
   "source": [
    "# Quicksort\n",
    "\n",
    "# FUNÇÃO quicksort(minha_lista, inicio, fim):\n",
    "#     SE inicio É MENOR QUE fim:\n",
    "#         // 'pivo_indice' é a posição final do pivô após a partição\n",
    "#         DEFINIR pivo_indice = dividir(minha_lista, inicio, fim)\n",
    "        \n",
    "#         // Chamadas recursivas para as sub-listas à esquerda e à direita do pivô\n",
    "#         CHAMAR quicksort(minha_lista, inicio, pivo_indice - 1)\n",
    "#         CHAMAR quicksort(minha_lista, pivo_indice + 1, fim)\n",
    "        \n",
    "#     RETORNAR minha_lista\n",
    "# FIM FUNÇÃO\n",
    "\n",
    "# FUNÇÃO dividir(minha_lista, inicio, fim):\n",
    "#     DEFINIR pivo = minha_lista[fim] // Escolhe o último elemento como pivô\n",
    "#     DEFINIR i = inicio - 1         // 'i' rastreia a posição para o próximo elemento menor que o pivô\n",
    "    \n",
    "#     PARA j DE inicio ATÉ fim - 1:\n",
    "#         SE minha_lista[j] É MENOR OU IGUAL A pivo:\n",
    "#             INCREMENTAR i EM 1\n",
    "#             TROCAR minha_lista[i] COM minha_lista[j] // Move elementos menores/iguais para a esquerda\n",
    "            \n",
    "#     // Coloca o pivô em sua posição final correta\n",
    "#     TROCAR minha_lista[i + 1] COM minha_lista[fim]\n",
    "    \n",
    "#     RETORNAR i + 1 // Retorna o índice onde o pivô foi colocado\n",
    "# FIM FUNÇÃO"
   ]
  },
  {
   "cell_type": "code",
   "execution_count": null,
   "metadata": {},
   "outputs": [],
   "source": [
    "minha_lista = gerar_lista_randomica_sem_repeticoes(10)\n",
    "print(minha_lista)"
   ]
  },
  {
   "cell_type": "code",
   "execution_count": null,
   "metadata": {},
   "outputs": [],
   "source": [
    "minha_lista = quicksort(minha_lista, 0, len(minha_lista) - 1)\n",
    "print(minha_lista)"
   ]
  },
  {
   "attachments": {},
   "cell_type": "markdown",
   "metadata": {},
   "source": [
    "Ao receber uma lista `minha_lista`, com o indicativo do início `minha_lista[0]` e do fim da lista `minha_lista[n]`, o quicksort realiza os seguintes procedimentos:\n",
    " \n",
    "Seleciona um `pivo`, neste caso o elemento final `minha_lista[n]` da lista que vai da posição inicial até a final (`minha_lista[0 ... n]`) e reorganiza a lista de forma que os elementos à `esquerda` do `pivo` sejam menores ou iguais a ele, e a `direita` maiores ou iguais a ele. Neste momento não importa a ordem destes elementos, apenas a relação entre eles e o pivo. Esse procedimento é chamado de particionamento, e a posição final do pivo é a posição devolvida ao fim do método `Dividir`, chamada de posição `i`.\n",
    " \n",
    "Após inserir o `pivo` na posição correta, realizamos uma nova chamada recursiva para a sub-lista `k`, que vai da posição inicial `minha_lista[0]` até a posição `minha_lista[i - 1]` e outra chamada que vai da posição `minha_lista[i + 1]` até `minha_lista[n]`, assim sucessivamente até que atinja a condição de parada da recursão. Neste caso, é quando a posição final é maior do que a posição inicial na lista (`i - 1 < 0` e `i + 1 < n`).\n",
    " \n",
    "Ao final do método, a lista já está ordenada, e não é necessário realizar nenhum procedimento adicional."
   ]
  },
  {
   "cell_type": "markdown",
   "metadata": {},
   "source": [
    "#### Comparação Big-O\n",
    "Abaixo podemos visualizar a complexidade de alguns dos algoritmos desenvolvidos:\n",
    " \n",
    "Algoritmo         | melhor caso       | média               | pior caso\n",
    "---------         | ------            | ------              | ------\n",
    "Bubble Sort       | O(n<sup>2</sup>)  | O(n<sup>2</sup>)    | O(n<sup>2</sup>)\n",
    "Insertion Sort    | O(n)              | O(n<sup>2</sup>)    | O(n<sup>2</sup>)\n",
    "Merge Sort        | O(n log n)        | O(n log n)          | O(n log n)\n",
    "Quick Sort        | O(n log n)        | O(n log n)          | O(n<sup>2</sup>)"
   ]
  },
  {
   "cell_type": "markdown",
   "metadata": {},
   "source": [
    "----------------------"
   ]
  },
  {
   "cell_type": "markdown",
   "metadata": {},
   "source": [
    "## Resumo Rápido: Busca Sequencial x Busca Binária\n",
    "\n",
    "| Situação                              | Melhor Opção              |\n",
    "|---------------------------------------|---------------------------|\n",
    "| Dados pequenos ou desordenados        | Busca Sequencial          |\n",
    "| Dados grandes e já ordenados          | Busca Binária             |\n",
    "| Dados mudando constantemente          | Busca Sequencial          |\n",
    "| Precisa de alta performance           | Busca Binária (ou índice) |\n",
    "| Ordem dos dados é relevante (ex: fila)| Busca Sequencial          |"
   ]
  },
  {
   "cell_type": "markdown",
   "metadata": {},
   "source": [
    "----------------------"
   ]
  },
  {
   "cell_type": "markdown",
   "metadata": {},
   "source": [
    "## Resumo Rápido: Ordenamento\n",
    "Sugere-se que escolha o que tem menor O(n) na média\n",
    " \n",
    "Algoritmo         | melhor caso       | média               | pior caso\n",
    "---------         | ------            | ------              | ------\n",
    "Bubble Sort       | O(n<sup>2</sup>)  | O(n<sup>2</sup>)    | O(n<sup>2</sup>)\n",
    "Insertion Sort    | O(n)              | O(n<sup>2</sup>)    | O(n<sup>2</sup>)\n",
    "Merge Sort        | O(n log n)        | O(n log n)          | O(n log n)\n",
    "Quick Sort        | O(n log n)        | O(n log n)          | O(n<sup>2</sup>)"
   ]
  }
 ],
 "metadata": {
  "kernelspec": {
   "display_name": "Python 3",
   "language": "python",
   "name": "python3"
  },
  "language_info": {
   "codemirror_mode": {
    "name": "ipython",
    "version": 3
   },
   "file_extension": ".py",
   "mimetype": "text/x-python",
   "name": "python",
   "nbconvert_exporter": "python",
   "pygments_lexer": "ipython3",
   "version": "3.13.5"
  },
  "orig_nbformat": 4,
  "vscode": {
   "interpreter": {
    "hash": "42478136ef40f8edd3f4cf991c33cffcfc620a666d0dc328e82cc0ef4d7b2c04"
   }
  }
 },
 "nbformat": 4,
 "nbformat_minor": 2
}
