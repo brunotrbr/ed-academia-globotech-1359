{
 "cells": [
  {
   "cell_type": "markdown",
   "id": "108e3219",
   "metadata": {},
   "source": [
    "# Exercícios focados em análise de desempenho dos algoritmos"
   ]
  },
  {
   "cell_type": "markdown",
   "id": "ee44682b",
   "metadata": {},
   "source": [
    "### Exercício 1\n",
    "\n",
    "Compare o tempo de execução (rode 3x e faça a média das execuções) dos algoritmos de busca:\n",
    "\n",
    "- Crie uma lista com 100.000 números aleatórios\n",
    "\n",
    "- Realize a busca sequencial de 30.000 números aleatórios, e armazene o tempo para buscar todos eles.\n",
    "\n",
    "- Depois ordene a lista e realize a busca binária nos mesmos 30.000 números. Armazene o tempo para ordenar e buscar os números\n",
    "\n",
    "- Analise qual teve a performance: ordenamento + busca ou somente busca."
   ]
  },
  {
   "cell_type": "code",
   "execution_count": null,
   "id": "48a36ab9",
   "metadata": {},
   "outputs": [],
   "source": []
  },
  {
   "cell_type": "markdown",
   "id": "452d7427",
   "metadata": {},
   "source": [
    "--------------------------------"
   ]
  },
  {
   "cell_type": "markdown",
   "id": "48372ec1",
   "metadata": {},
   "source": [
    "### Exercício 2\n",
    "\n",
    "Implemente o algoritmo de ordenação Bubble Sort com otimização. Se necessário, pesquise como funciona a otimização dele.\n",
    "\n",
    "Depois, rode o algoritmo bubble sort básico e o otimizado para uma lista com 100.000 números e compare o desempenho.\n",
    "\n",
    "PS: Caso o programa demore muito (5 minutos, 10 minutos, etc), reduza um pouco o tamanho da lista.\n",
    "\n",
    "PS2: Se for muito rápido, aumente o tamanho da lista."
   ]
  },
  {
   "cell_type": "code",
   "execution_count": null,
   "id": "2de123e6",
   "metadata": {},
   "outputs": [],
   "source": [
    "def bubble_sort_otimizado(self):\n",
    "    # Insira o código aqui\n",
    "    pass"
   ]
  },
  {
   "cell_type": "markdown",
   "id": "d9311801",
   "metadata": {},
   "source": [
    "--------------------------------"
   ]
  },
  {
   "cell_type": "markdown",
   "id": "af9411a3",
   "metadata": {},
   "source": [
    "## Exercício 3\n",
    "\n",
    "Compare o tempo de execução (rode 3x e faça a média das execuções) dos algoritmos de ordenação.\n",
    "\n",
    "Ordene cada uma das listas abaixo com todos os algoritmos implementados, para analisar a performance deles."
   ]
  },
  {
   "cell_type": "code",
   "execution_count": null,
   "id": "67dd480d",
   "metadata": {},
   "outputs": [],
   "source": [
    "from random import sample\n",
    "\n",
    "# Gerar uma lista de \"qtde_numeros\" números aleatórios entre 0 e \"maior_num_lista\", sem repetições\n",
    "def gerar_lista_randomica_sem_repeticoes(maior_num_lista: int, qtde_numeros: int):\n",
    "    populacao = range(maior_num_lista)\n",
    "    minha_lista = sample(populacao, qtde_numeros)\n",
    "    return minha_lista"
   ]
  },
  {
   "cell_type": "code",
   "execution_count": null,
   "id": "07e02ebd",
   "metadata": {},
   "outputs": [],
   "source": [
    "minha_lista = gerar_lista_randomica_sem_repeticoes(maior_num_lista=1000000, qtde_numeros=1000)\n",
    "print(minha_lista)"
   ]
  },
  {
   "cell_type": "markdown",
   "id": "c7d50574",
   "metadata": {},
   "source": [
    "### 3.1:\n",
    "\n",
    "Lista com 1.000 números\n"
   ]
  },
  {
   "cell_type": "code",
   "execution_count": null,
   "id": "87226542",
   "metadata": {},
   "outputs": [],
   "source": []
  },
  {
   "cell_type": "markdown",
   "id": "0ae73928",
   "metadata": {},
   "source": [
    "### 3.2:\n",
    "\n",
    "Lista com 10.000 números"
   ]
  },
  {
   "cell_type": "code",
   "execution_count": null,
   "id": "c926638d",
   "metadata": {},
   "outputs": [],
   "source": []
  },
  {
   "cell_type": "markdown",
   "id": "85be7a93",
   "metadata": {},
   "source": [
    "### 3.3:\n",
    "\n",
    "Lista com 100.000 números"
   ]
  },
  {
   "cell_type": "code",
   "execution_count": null,
   "id": "7e1cd9b2",
   "metadata": {},
   "outputs": [],
   "source": []
  },
  {
   "cell_type": "markdown",
   "id": "34640c73",
   "metadata": {},
   "source": [
    "### 3.4:\n",
    "\n",
    "Lista com 50.000 números semi ordenados. PRIMEIROS 1000 números fora de ordem, os demais 49.000 números em ordem. Observar desempenho do insertion sort e comparar com os demais."
   ]
  },
  {
   "cell_type": "code",
   "execution_count": null,
   "id": "499d60db",
   "metadata": {},
   "outputs": [],
   "source": []
  },
  {
   "cell_type": "markdown",
   "id": "1e4c409f",
   "metadata": {},
   "source": [
    "--------------------------------"
   ]
  },
  {
   "cell_type": "markdown",
   "id": "0123caf2",
   "metadata": {},
   "source": [
    "# Exercícios de Busca e Ordenação do dia a dia\n",
    "\n",
    "## Busca Linear – 2 Exercícios\n",
    "\n",
    "### Exercício 4 – Procurando um produto na lista de compras\n",
    "\n",
    "Imagine que você foi ao supermercado e tem uma lista de compras. Antes de ir, você quer conferir se um produto específico, como \"arroz\", já está na sua lista.\n",
    "\n",
    "Tarefa:  \n",
    "Crie um programa que recebe uma lista de compras e um item para procurar, e informe se o item está presente ou não."
   ]
  },
  {
   "cell_type": "code",
   "execution_count": null,
   "id": "790639e3",
   "metadata": {},
   "outputs": [],
   "source": []
  },
  {
   "cell_type": "markdown",
   "id": "40ed201b",
   "metadata": {},
   "source": [
    "### Exercício 5 – Conferindo presença na chamada\n",
    "\n",
    "Você é professor e está fazendo a chamada da sua turma. Você tem uma lista com os nomes dos alunos presentes e precisa saber se um aluno específico compareceu.\n",
    "\n",
    "Tarefa:  \n",
    "Crie um programa que, dado um nome e uma lista de presença, informe se esse aluno está presente ou não."
   ]
  },
  {
   "cell_type": "code",
   "execution_count": null,
   "id": "1ae5a1e1",
   "metadata": {},
   "outputs": [],
   "source": []
  },
  {
   "cell_type": "markdown",
   "id": "8867743b",
   "metadata": {},
   "source": [
    "--------------------------------"
   ]
  },
  {
   "cell_type": "markdown",
   "id": "7992172f",
   "metadata": {},
   "source": [
    "## Busca Binária – 2 Exercícios\n",
    "\n",
    "### Exercício 6 – Buscando um livro na biblioteca digital\n",
    "\n",
    "Uma biblioteca digital tem uma lista de livros ordenada em ordem alfabética. Você quer verificar se o livro “Python para Iniciantes” está disponível no acervo.\n",
    "\n",
    "Tarefa:  \n",
    "Escreva um programa que use busca binária para procurar um livro na lista."
   ]
  },
  {
   "cell_type": "code",
   "execution_count": null,
   "id": "806883e1",
   "metadata": {},
   "outputs": [],
   "source": []
  },
  {
   "cell_type": "markdown",
   "id": "5f630591",
   "metadata": {},
   "source": [
    "### Exercício 7 – Conferindo se uma senha existe\n",
    "\n",
    "Uma empresa gera senhas para atendimento em ordem crescente. Quando alguém apresenta uma senha, você precisa verificar rapidamente se ela existe na lista de senhas válidas.\n",
    "\n",
    "Tarefa:  \n",
    "Crie um programa que utilize busca binária para verificar se uma senha está na lista ordenada de senhas."
   ]
  },
  {
   "cell_type": "code",
   "execution_count": null,
   "id": "7f1a6645",
   "metadata": {},
   "outputs": [],
   "source": []
  },
  {
   "cell_type": "markdown",
   "id": "ecad819e",
   "metadata": {},
   "source": [
    "--------------------------------"
   ]
  },
  {
   "cell_type": "markdown",
   "id": "ced517b7",
   "metadata": {},
   "source": [
    "## Bubble Sort – 2 Exercícios\n",
    "\n",
    "### Exercício 8 – Organizando as notas da prova\n",
    "\n",
    "Você tem as notas dos alunos de uma avaliação e quer organizá-las em ordem crescente, para visualizar quem teve as menores e maiores notas.\n",
    "\n",
    "Tarefa:  \n",
    "Implemente um programa que usa o algoritmo Bubble Sort para ordenar a lista de notas."
   ]
  },
  {
   "cell_type": "code",
   "execution_count": null,
   "id": "d4212d0e",
   "metadata": {},
   "outputs": [],
   "source": []
  },
  {
   "cell_type": "markdown",
   "id": "478b559e",
   "metadata": {},
   "source": [
    "### Exercício 9 – Arrumando os livros por altura\n",
    "\n",
    "Seus livros estão desorganizados na estante. Você quer organizá-los do menor para o maior, com base na altura.\n",
    "\n",
    "Tarefa:  \n",
    "Escreva um programa que use o algoritmo Bubble Sort para ordenar uma lista de alturas dos livros."
   ]
  },
  {
   "cell_type": "code",
   "execution_count": null,
   "id": "618fb943",
   "metadata": {},
   "outputs": [],
   "source": []
  },
  {
   "cell_type": "markdown",
   "id": "87a35b21",
   "metadata": {},
   "source": [
    "--------------------------------"
   ]
  },
  {
   "cell_type": "markdown",
   "id": "c8697b88",
   "metadata": {},
   "source": [
    "## Insertion Sort – 2 Exercícios\n",
    "\n",
    "### Exercício 10 – Organizando as cartas\n",
    "\n",
    "Pense no jogo de baralho. Ao receber as cartas, você vai colocando cada uma no lugar certo na sua mão, uma de cada vez.\n",
    "\n",
    "Tarefa:  \n",
    "Implemente o algoritmo de Insertion Sort para organizar uma lista de números representando as cartas."
   ]
  },
  {
   "cell_type": "code",
   "execution_count": null,
   "id": "f1f31426",
   "metadata": {},
   "outputs": [],
   "source": []
  },
  {
   "cell_type": "markdown",
   "id": "148cc1b9",
   "metadata": {},
   "source": [
    "### Exercício 11 – Organizando os aniversários dos colegas\n",
    "\n",
    "Você tem uma lista com os dias de aniversário dos seus colegas (somente o dia do mês). A lista está desordenada e você quer organizá-la para saber quem faz aniversário primeiro.\n",
    "\n",
    "Tarefa:  \n",
    "Crie um programa que use o Insertion Sort para ordenar essa lista."
   ]
  },
  {
   "cell_type": "code",
   "execution_count": null,
   "id": "d01648e0",
   "metadata": {},
   "outputs": [],
   "source": []
  },
  {
   "cell_type": "markdown",
   "id": "b0184a28",
   "metadata": {},
   "source": [
    "--------------------------------"
   ]
  },
  {
   "cell_type": "markdown",
   "id": "284be983",
   "metadata": {},
   "source": [
    "## Selection Sort – 2 Exercícios\n",
    "\n",
    "### Exercício 12 – Ordenando os preços dos produtos\n",
    "\n",
    "Você tem uma lista com os preços dos produtos do mercado e deseja organizá-los do mais barato para o mais caro.\n",
    "\n",
    "Tarefa:  \n",
    "Implemente um programa que utilize o algoritmo de Selection Sort para ordenar os preços."
   ]
  },
  {
   "cell_type": "code",
   "execution_count": null,
   "id": "ba3a3341",
   "metadata": {},
   "outputs": [],
   "source": []
  },
  {
   "cell_type": "markdown",
   "id": "cfc9b529",
   "metadata": {},
   "source": [
    "### Exercício 13 – Classificando os tempos de corrida\n",
    "\n",
    "Em uma competição, os tempos dos participantes (em minutos) foram registrados, mas estão desordenados. Você precisa organizá-los do menor (mais rápido) para o maior (mais lento).\n",
    "\n",
    "Tarefa:  \n",
    "Use o algoritmo de Selection Sort para ordenar os tempos dos participantes."
   ]
  },
  {
   "cell_type": "code",
   "execution_count": null,
   "id": "86033df8",
   "metadata": {},
   "outputs": [],
   "source": []
  },
  {
   "cell_type": "markdown",
   "id": "775be3bd",
   "metadata": {},
   "source": [
    "--------------------------------"
   ]
  },
  {
   "cell_type": "markdown",
   "id": "456f14e9",
   "metadata": {},
   "source": [
    "## Desafio Final – Ordenar e depois Buscar\n",
    "\n",
    "### Exercício 14 – Lista de alunos da turma\n",
    "\n",
    "Você recebeu uma lista com os nomes dos alunos da turma totalmente desordenada. A professora quer saber duas coisas:\n",
    "\n",
    "1. Primeiro, ordene os nomes dos alunos em ordem alfabética.\n",
    "2. Depois, verifique se um aluno específico (informado pelo usuário) está na lista.\n",
    "\n",
    "Tarefa:  \n",
    "- Escolha um dos algoritmos de ordenação que você aprendeu (Bubble Sort, Insertion Sort ou Selection Sort) para organizar os nomes.  \n",
    "- Em seguida, utilize Busca Binária para procurar o nome do aluno na lista ordenada."
   ]
  },
  {
   "cell_type": "code",
   "execution_count": null,
   "id": "952b46fa",
   "metadata": {},
   "outputs": [],
   "source": []
  }
 ],
 "metadata": {
  "language_info": {
   "name": "python"
  }
 },
 "nbformat": 4,
 "nbformat_minor": 5
}
