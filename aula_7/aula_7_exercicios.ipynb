{
 "cells": [
  {
   "cell_type": "markdown",
   "metadata": {},
   "source": [
    "# Exercícios"
   ]
  },
  {
   "attachments": {},
   "cell_type": "markdown",
   "metadata": {},
   "source": [
    "## Exercício 1"
   ]
  },
  {
   "attachments": {},
   "cell_type": "markdown",
   "metadata": {},
   "source": [
    "Para o grafo da figura abaixo, apresente a sequência de vertices após a aplicação da BFS e da DFS a partir do\n",
    "vértice 7.\n",
    "\n",
    "Utilize a classe GrafoLA para o problema.\n",
    "\n",
    "<img src=https://objectstorage.us-ashburn-1.oraclecloud.com/n/ida8x1uljntv/b/graph_images_ada/o/grafo_1.png width=300>"
   ]
  },
  {
   "cell_type": "code",
   "execution_count": null,
   "metadata": {},
   "outputs": [],
   "source": []
  },
  {
   "cell_type": "markdown",
   "metadata": {},
   "source": [
    "Agora utilize a lib networkx"
   ]
  },
  {
   "cell_type": "code",
   "execution_count": null,
   "metadata": {},
   "outputs": [],
   "source": []
  },
  {
   "attachments": {},
   "cell_type": "markdown",
   "metadata": {},
   "source": [
    "## Exercício 2"
   ]
  },
  {
   "attachments": {},
   "cell_type": "markdown",
   "metadata": {},
   "source": [
    "Para o grafo da figura abaixo, apresente a sequência de vertices após a aplicação da DFS a partir do\n",
    "vértice 7.\n",
    "\n",
    "Utilize a classe GrafoLA para o problema.\n",
    "\n",
    "<img src=https://objectstorage.us-ashburn-1.oraclecloud.com/n/ida8x1uljntv/b/graph_images_ada/o/grafo_2.png width=300>"
   ]
  },
  {
   "cell_type": "code",
   "execution_count": null,
   "metadata": {},
   "outputs": [],
   "source": []
  },
  {
   "cell_type": "markdown",
   "metadata": {},
   "source": [
    "Agora utilize a lib networkx"
   ]
  },
  {
   "cell_type": "code",
   "execution_count": null,
   "metadata": {},
   "outputs": [],
   "source": []
  },
  {
   "attachments": {},
   "cell_type": "markdown",
   "metadata": {},
   "source": [
    "## Exercício 3"
   ]
  },
  {
   "attachments": {},
   "cell_type": "markdown",
   "metadata": {},
   "source": [
    "Considere o labirinto apresentado na figura a seguir. Este é um problema trivial que muitos de nós humanos resolvemos a título de entretenimento. No entanto ele se apresenta como um problema\n",
    "complexo para um computador resolver.\n",
    "\n",
    "De que forma o computador pode transportar o labirinto para uma representação computacional adequada, a fim de encontrar o menor caminho da entrada até a estrela?\n",
    "\n",
    "<img src=https://objectstorage.us-ashburn-1.oraclecloud.com/n/ida8x1uljntv/b/graph_images_ada/o/labirinto.png width=500>"
   ]
  }
 ],
 "metadata": {
  "kernelspec": {
   "display_name": "Python 3",
   "language": "python",
   "name": "python3"
  },
  "language_info": {
   "codemirror_mode": {
    "name": "ipython",
    "version": 3
   },
   "file_extension": ".py",
   "mimetype": "text/x-python",
   "name": "python",
   "nbconvert_exporter": "python",
   "pygments_lexer": "ipython3",
   "version": "3.13.5"
  },
  "orig_nbformat": 4,
  "vscode": {
   "interpreter": {
    "hash": "42478136ef40f8edd3f4cf991c33cffcfc620a666d0dc328e82cc0ef4d7b2c04"
   }
  }
 },
 "nbformat": 4,
 "nbformat_minor": 2
}
