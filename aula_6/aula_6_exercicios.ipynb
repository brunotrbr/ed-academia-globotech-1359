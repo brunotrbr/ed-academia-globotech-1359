{
 "cells": [
  {
   "cell_type": "markdown",
   "id": "ba54e5ea",
   "metadata": {},
   "source": [
    "# Exercícios"
   ]
  },
  {
   "cell_type": "markdown",
   "id": "3a0aa710",
   "metadata": {},
   "source": [
    "## Exercício 1\n",
    "\n",
    "Com base na classe `GrafoLA` implementada em aula, altere a classe para que seja possível representar grafos ponderados (quando as conexões tem valor)"
   ]
  },
  {
   "cell_type": "code",
   "execution_count": null,
   "id": "fc7a5efc",
   "metadata": {},
   "outputs": [],
   "source": []
  },
  {
   "cell_type": "code",
   "execution_count": null,
   "id": "580c379a",
   "metadata": {},
   "outputs": [],
   "source": []
  },
  {
   "cell_type": "markdown",
   "id": "34d23724",
   "metadata": {},
   "source": [
    "## Exercício 2"
   ]
  },
  {
   "cell_type": "markdown",
   "id": "be8ea10d",
   "metadata": {},
   "source": [
    "Implemente o grafo ponderado ilustrado pela figura abaixo. \n",
    "\n",
    "Em seguida, exiba a lista que representa o grafo.\n",
    "\n",
    "<img src=\"https://ucarecdn.com/a67cb888-aa0c-424b-8c7f-847e38dd5691/\" width=300>"
   ]
  },
  {
   "cell_type": "code",
   "execution_count": null,
   "id": "5773ba22",
   "metadata": {},
   "outputs": [],
   "source": []
  }
 ],
 "metadata": {
  "kernelspec": {
   "display_name": "Python 3",
   "language": "python",
   "name": "python3"
  },
  "language_info": {
   "codemirror_mode": {
    "name": "ipython",
    "version": 3
   },
   "file_extension": ".py",
   "mimetype": "text/x-python",
   "name": "python",
   "nbconvert_exporter": "python",
   "pygments_lexer": "ipython3",
   "version": "3.13.5"
  }
 },
 "nbformat": 4,
 "nbformat_minor": 5
}
