{
 "cells": [
  {
   "cell_type": "markdown",
   "id": "0b51502e",
   "metadata": {},
   "source": [
    "# Grafos"
   ]
  },
  {
   "cell_type": "markdown",
   "id": "d004927e",
   "metadata": {},
   "source": [
    "## O que é um Grafo?\n",
    "\n",
    "Pensem em um grafo como um **mapa de conexões**. Ajuda a representar visualmente coisas que estão interligadas.\n",
    "\n",
    "Composição:\n",
    "\n",
    "  * **Vértices (ou Nós):** São os \"pontos\" ou as \"coisas\" que queremos conectar.\n",
    "  * **Arestas:** São as \"linhas\" ou as \"conexões\" que ligam um vértice a outro.\n",
    "\n",
    "&nbsp;\n",
    "\n",
    "<img src=\"https://algoritmosempython.com.br/images/algoritmos-python/algoritmos-grafos/ModelagemGrafosExemplo.png\" width=400\\>\n",
    "\n",
    "&nbsp;\n",
    "\n",
    "### Exemplos:\n",
    "\n",
    "  * **Rede social (Instagram/Facebook):**\n",
    "\n",
    "      * **Vértices:** Cada pessoa na rede é um vértice.\n",
    "      * **Arestas:** A relação de \"amizade\" ou \"seguir\" é uma aresta.\n",
    "\n",
    "  * **Mapa de vôos (Google Flights):**\n",
    "\n",
    "      * **Vértices:** Cada cidade/aeroporto é um vértice.\n",
    "      * **Arestas:** Uma rota de voo direta entre duas cidades é uma aresta."
   ]
  },
  {
   "cell_type": "markdown",
   "id": "3d24f7fe",
   "metadata": {},
   "source": [
    "## Tipos de conexões (Arestas)\n",
    "\n",
    "1.  **Conexões com sentido único (Grafos direcionados)**\n",
    "\n",
    "      * A conexão só vale em uma direção.\n",
    "      * **Exemplo prático:** No Instagram, você pode seguir uma celebridade (aresta `Você -> Celebridade`), mas ela não precisa te seguir de volta. A conexão tem um sentido.\n",
    "\n",
    "    <img src=\"https://www.ime.usp.br/~pf/algoritmos_para_grafos/aulas/figs/Sedgewick-Wayne/TinyNetworkOnly.png\" width=400\\>\n",
    "\n",
    "&nbsp;\n",
    "\n",
    "2.  **Conexões de mão dupla (Grafos não direcionados)**\n",
    "\n",
    "      * A conexão é mútua. Se A está conectado a B, B também está conectado a A.\n",
    "      * **Exemplo prático:** No Facebook, a amizade é de mão dupla. Se você é amigo de alguém, essa pessoa também é sua amiga. A conexão não tem uma \"seta\".\n",
    "\n",
    "    <img src=\"https://algoritmosempython.com.br/images/algoritmos-python/algoritmos-grafos/ModelagemGrafosExemplo.png\" width=400\\>\n",
    "    \n",
    "&nbsp;\n",
    "\n",
    "3.  **Conexões com valor (Grafos ponderados)**\n",
    "\n",
    "      * A conexão tem um \"custo\" ou \"peso\" associado a ela.\n",
    "      * **Exemplo Prático:** Em um mapa de voos, o **preço** da passagem entre duas cidades é o peso da aresta. Em um aplicativo como o Waze, a **distância em km** ou o **tempo de viagem** entre dois pontos são os pesos.\n",
    "\n",
    "    <img src=\"https://upload.wikimedia.org/wikipedia/commons/thumb/a/a8/Prim_Algorithm_0.svg/250px-Prim_Algorithm_0.svg.png\" width=400 style=\"background-color:white;\">"
   ]
  },
  {
   "cell_type": "markdown",
   "id": "0ce8ff3c",
   "metadata": {},
   "source": [
    "### Como descrevemos um grafo para o computador?\n",
    "\n",
    "#### 1\\. Matriz de adjacência (A planilha de conexões)\n",
    "\n",
    "Como uma planilha onde as linhas e as colunas são todos os vértices do seu grafo (ex: todas as cidades do mapa).\n",
    "\n",
    "  * Para saber se existe uma conexão direta da **cidade A** para a **cidade B**, você olha na **linha A, coluna B**.\n",
    "  * Se o valor for `1` (ou qualquer outro número diferente de zero), a conexão existe. Se for `0`, não existe uma conexão direta.\n",
    "\n",
    "<img src=\"https://s3-sa-east-1.amazonaws.com/lcpi/1f5e0fd3-572c-479a-8a53-74d8212c5e5c.jpg\" width=500\\>\n",
    "\n",
    "  * **Quando usar?** É ótima para grafos \"densos\", onde quase todo mundo está conectado com todo mundo.\n",
    "  * **Desvantagem:** Ocupa muita memória para grafos \"esparsos\" (com poucas conexões, como uma rede social).\n",
    "\n",
    "&nbsp;\n",
    "\n",
    "A imagem acima representa as conexões de mão dupla (grafos não direcionados).\n",
    "\n",
    "A matriz de adjacência também pode representar os grafos direcionados (conexões de mão única), onde a flecha indica indica qual o vértice de origem e qual o vértice de destino (a flecha \"sai\" da linha e \"entra\" na coluna.)\n",
    "\n",
    "<img src=\"https://algoritmosempython.com.br/images/algoritmos-python/algoritmos-grafos/GrafoMatrizAdjacencia.png\" width=400>"
   ]
  },
  {
   "cell_type": "markdown",
   "id": "5fcfe05f",
   "metadata": {},
   "source": [
    "O código abaixo demonstra o exemplo de implementação de um grafo com a Matriz de Adjacências"
   ]
  },
  {
   "cell_type": "code",
   "execution_count": null,
   "id": "9604e49c",
   "metadata": {},
   "outputs": [],
   "source": [
    "class GrafoMA:\n",
    "    def __init__(self):\n",
    "        # Dicionário para mapear rótulos (strings/ints) de nós para seus índices internos\n",
    "        self.mapeamento_indices = {}\n",
    "        # Lista para armazenar os rótulos dos nós na ordem dos índices\n",
    "        self.rotulos_nos = []\n",
    "        # A matriz de adjacências será inicializada vazia e expandida conforme necessário\n",
    "        self.adj = []\n",
    "        self.num_nos = 0 # Contador para o número atual de nós no grafo\n",
    "\n",
    "    def __repr__(self):\n",
    "        return self.__str__()\n",
    "    \n",
    "    def __str__(self):\n",
    "        # Cria uma representação da matriz com os rótulos dos nós\n",
    "        s = \"  \" + \" \".join([str(rotulo) for rotulo in self.rotulos_nos]) + \"\\n\"\n",
    "        for i, linha in enumerate(self.adj):\n",
    "            s += f\"{self.rotulos_nos[i]} \" + \" \".join([str(peso) for peso in linha]) + \"\\n\"\n",
    "        return s.strip() # Remove a última linha vazia se houver\n",
    "\n",
    "    def __obter_ou_criar_indice(self, no_label):\n",
    "        \"\"\"\n",
    "        Retorna o índice de um nó existente ou cria um novo se não existir.\n",
    "        Expande a matriz de adjacências se um novo nó for adicionado.\n",
    "        \"\"\"\n",
    "        if no_label not in self.mapeamento_indices:\n",
    "            # Atribui um novo índice ao rótulo do nó\n",
    "            novo_indice = self.num_nos\n",
    "            self.mapeamento_indices[no_label] = novo_indice\n",
    "            self.rotulos_nos.append(no_label)\n",
    "            self.num_nos += 1\n",
    "\n",
    "            # Expande a matriz de adjacências\n",
    "            # Adiciona uma nova coluna (0s) a todas as linhas existentes\n",
    "            for linha_existente in self.adj:\n",
    "                linha_existente.append(0)\n",
    "            # Adiciona uma nova linha (0s) com o novo tamanho total\n",
    "            self.adj.append([0] * self.num_nos)\n",
    "            \n",
    "            # Garante que as linhas existentes tenham o tamanho correto após adicionar a nova coluna\n",
    "            for i in range(self.num_nos - 1): # Percorre todas as linhas existentes, exceto a recém-adicionada\n",
    "                if len(self.adj[i]) < self.num_nos:\n",
    "                    self.adj[i].extend([0] * (self.num_nos - len(self.adj[i])))\n",
    "\n",
    "        return self.mapeamento_indices[no_label]\n",
    "\n",
    "    def adicionar_vertice(self, no_label):\n",
    "        self.__obter_ou_criar_indice(no_label)\n",
    "\n",
    "    def adicionar_aresta(self, no1_label, no2_label, peso=1, bidirecional=True):\n",
    "        # Obtém ou cria os índices internos para os rótulos dos nós\n",
    "        idx1 = self.__obter_ou_criar_indice(no1_label)\n",
    "        idx2 = self.__obter_ou_criar_indice(no2_label)\n",
    "        \n",
    "        # Garante que a matriz tenha o tamanho correto para os índices antes de acessar\n",
    "        # (Isso é redundante se __obter_ou_criar_indice for chamado corretamente e expandir a matriz)\n",
    "        # Mas serve como uma verificação extra robusta\n",
    "        max_idx = max(idx1, idx2)\n",
    "        if max_idx >= len(self.adj):\n",
    "            # Isso não deveria acontecer se __obter_ou_criar_indice funciona corretamente\n",
    "            # mas é um fallback de segurança\n",
    "            self.adj.extend([[0] * self.num_nos for _ in range(max_idx - len(self.adj) + 1)])\n",
    "            for i in range(len(self.adj)):\n",
    "                if len(self.adj[i]) < self.num_nos:\n",
    "                    self.adj[i].extend([0] * (self.num_nos - len(self.adj[i])))\n",
    "\n",
    "        self.adj[idx1][idx2] = peso\n",
    "        \n",
    "        if bidirecional:\n",
    "            self.adj[idx2][idx1] = peso\n",
    "            \n",
    "    def obter_vizinhos(self, no_label):\n",
    "        # Verifica se o rótulo do nó existe\n",
    "        if no_label not in self.mapeamento_indices:\n",
    "            return [] # Retorna lista vazia se o nó não existe\n",
    "\n",
    "        idx = self.mapeamento_indices[no_label]\n",
    "        vizinhos = []\n",
    "        for i, peso in enumerate(self.adj[idx]):\n",
    "            if peso != 0:\n",
    "                vizinhos.append(self.rotulos_nos[i]) # Retorna o rótulo do vizinho, não o índice\n",
    "        return vizinhos\n",
    "\n",
    "    def obter_peso_aresta(self, no1_label, no2_label):\n",
    "        if no1_label not in self.mapeamento_indices or no2_label not in self.mapeamento_indices:\n",
    "            return 0 # Aresta não existe se um dos nós não existe\n",
    "\n",
    "        idx1 = self.mapeamento_indices[no1_label]\n",
    "        idx2 = self.mapeamento_indices[no2_label]\n",
    "        \n",
    "        return self.adj[idx1][idx2]\n",
    "        \n",
    "    def obter_numero_nos(self):\n",
    "        return self.num_nos\n",
    "\n",
    "    def obter_rotulos_nos(self):\n",
    "        return self.rotulos_nos"
   ]
  },
  {
   "cell_type": "code",
   "execution_count": null,
   "id": "96462b62",
   "metadata": {},
   "outputs": [],
   "source": [
    "grafo = GrafoMA()\n",
    "\n",
    "print(\"Adicionando arestas:\")\n",
    "grafo.adicionar_aresta(\"A\", \"B\")\n",
    "grafo.adicionar_aresta(\"A\", 1)\n",
    "grafo.adicionar_aresta(\"B\", \"C\", peso=2)\n",
    "grafo.adicionar_aresta(1, 2, peso=3)\n",
    "grafo.adicionar_aresta(\"C\", 2)\n",
    "grafo.adicionar_aresta(\"D\", \"A\", bidirecional=False)\n",
    "\n",
    "print(\"\\nGrafo após adicionar arestas:\")\n",
    "print(grafo)\n",
    "\n",
    "print(f\"Rótulos dos nós: {grafo.rotulos_nos}\")\n",
    "print(f\"Mapeamento de índices: {grafo.mapeamento_indices}\")\n",
    "print(f\"Número de nós: {grafo.obter_numero_nos()}\")"
   ]
  },
  {
   "cell_type": "code",
   "execution_count": null,
   "id": "c75f0bf5",
   "metadata": {},
   "outputs": [],
   "source": [
    "print(\"\\nObtendo vizinhos:\")\n",
    "print(f\"Vizinhos de 'A': {grafo.obter_vizinhos('A')}\")\n",
    "print(f\"Vizinhos de 'B': {grafo.obter_vizinhos('B')}\")\n",
    "print(f\"Vizinhos de 1: {grafo.obter_vizinhos(1)}\")\n",
    "print(f\"Vizinhos de 2: {grafo.obter_vizinhos(2)}\")\n",
    "print(f\"Vizinhos de 'D': {grafo.obter_vizinhos('D')}\")\n",
    "print(f\"Vizinhos de 'X' (não existe): {grafo.obter_vizinhos('X')}\")"
   ]
  },
  {
   "cell_type": "code",
   "execution_count": null,
   "id": "14796cf9",
   "metadata": {},
   "outputs": [],
   "source": [
    "print(\"\\nObtendo peso de arestas:\")\n",
    "print(f\"Peso da aresta 'A' para 'B': {grafo.obter_peso_aresta('A', 'B')}\")\n",
    "print(f\"Peso da aresta 'B' para 'C': {grafo.obter_peso_aresta('B', 'C')}\")\n",
    "print(f\"Peso da aresta 1 para 2: {grafo.obter_peso_aresta(1, 2)}\")\n",
    "print(f\"Peso da aresta 'A' para 'D': {grafo.obter_peso_aresta('A', 'D')}\")\n",
    "print(f\"Peso da aresta 'A' para 'C' (não existe): {grafo.obter_peso_aresta('A', 'C')}\")"
   ]
  },
  {
   "cell_type": "markdown",
   "id": "b82ad809",
   "metadata": {},
   "source": [
    "------------------------------"
   ]
  },
  {
   "cell_type": "markdown",
   "id": "fb6cf16f",
   "metadata": {},
   "source": [
    "Implemente o grafo ilustrado pela figura abaixo, utilizando a representação baseada em uma matriz de adjacências. Em seguida, exiba a matriz que representa o grafo.\n",
    "\n",
    "<img src=https://s3-sa-east-1.amazonaws.com/lcpi/c5b98cc3-2c85-4d9a-b1e8-aaa4b1aba9b3.png width=300, style=\"background: white\">"
   ]
  },
  {
   "cell_type": "code",
   "execution_count": null,
   "id": "8b299905",
   "metadata": {},
   "outputs": [],
   "source": [
    "g1 = GrafoMA()\n",
    "\n",
    "g1.adicionar_aresta(1, 3)\n",
    "g1.adicionar_aresta(3, 2)\n",
    "g1.adicionar_aresta(3, 4)\n",
    "g1.adicionar_aresta(2, 5)\n",
    "g1.adicionar_aresta(4, 5)\n",
    "g1.adicionar_aresta(4, 6)\n",
    "g1.adicionar_aresta(5, 5)\n",
    "g1.adicionar_aresta(5, 6)\n",
    "\n",
    "g1.adicionar_vertice(0)\n",
    "\n",
    "print(g1)"
   ]
  },
  {
   "cell_type": "markdown",
   "id": "8eafc0c8",
   "metadata": {},
   "source": [
    "Implemente o grafo ponderado ilustrado pela figura abaixo. \n",
    "\n",
    "Em seguida, exiba a matriz que representa o grafo.\n",
    "\n",
    "<img src=\"https://ucarecdn.com/a67cb888-aa0c-424b-8c7f-847e38dd5691/\" width=300>"
   ]
  },
  {
   "cell_type": "code",
   "execution_count": null,
   "id": "b3659591",
   "metadata": {},
   "outputs": [],
   "source": [
    "g2 = GrafoMA()\n",
    "\n",
    "g2.adicionar_aresta(0, 1, peso=3)\n",
    "g2.adicionar_aresta(0, 4, peso=8)\n",
    "g2.adicionar_aresta(0, 3, peso=7)\n",
    "g2.adicionar_aresta(1, 3, peso=4)\n",
    "g2.adicionar_aresta(1, 2, peso=1)\n",
    "g2.adicionar_aresta(2, 3, peso=2)\n",
    "\n",
    "print(g2)"
   ]
  },
  {
   "cell_type": "markdown",
   "id": "daa2f101",
   "metadata": {},
   "source": [
    "------------------------------"
   ]
  },
  {
   "cell_type": "markdown",
   "id": "4c4c8e1b",
   "metadata": {},
   "source": [
    "\n",
    "#### 2\\. Lista de Adjacências (A lista de contatos)\n",
    "\n",
    "Para cada vértice, temos uma lista de todos os seus vizinhos diretos.\n",
    "\n",
    "  * **Exemplo prático:**\n",
    "      * `Porto Alegre`: [`Florianópolis`, `Curitiba`]\n",
    "      * `São Paulo`: [`Rio de Janeiro`, `Belo Horizonte`, `Curitiba`]\n",
    "      * `Curitiba`: [`Porto Alegre`, `São Paulo`]\n",
    "\n",
    "<img src=\"https://s3-sa-east-1.amazonaws.com/lcpi/9775dad0-c900-42e9-87fa-41d78b73444c.jpg\" width=500\\>\n",
    "\n",
    "  * **Quando usar?** É a melhor opção para a maioria dos casos práticos, como redes sociais ou mapas, onde os vértices se conectam apenas a alguns outros. Economiza muita memória.\n",
    "  * **Desvantagem:** Para verificar se existe uma conexão específica, talvez seja preciso percorrer a lista de vizinhos daquele vértice."
   ]
  },
  {
   "cell_type": "markdown",
   "id": "c04345cb",
   "metadata": {},
   "source": [
    "O código abaixo demonstra o exemplo de implementação de um grafo com a Lista de Adjacências"
   ]
  },
  {
   "cell_type": "code",
   "execution_count": null,
   "id": "26c53d7c",
   "metadata": {},
   "outputs": [],
   "source": [
    "class GrafoLA:\n",
    "    def __init__(self):\n",
    "        # Usaremos um dicionário para mapear rótulos de nós (inteiros ou strings)\n",
    "        # para suas listas de adjacência.\n",
    "        self.adj = {}\n",
    "        # # Para controlar os nós visitados em algoritmos como Busca em Profundidade (DFS) e Busca em Largura (BFS),\n",
    "        # # usaremos um dicionário que mapeia o rótulo do nó para um status (0 para não visitado, 1 para visitado).\n",
    "        # self.__visitado = {}\n",
    "        # self.ordem_visitados = []\n",
    "\n",
    "    def __repr__(self):\n",
    "        return self.__str__()\n",
    "    \n",
    "    def __str__(self):\n",
    "        # Retorna uma representação legível do grafo.\n",
    "        # Ex: \"A: ['B', 'C']\\nB: ['A']\"\n",
    "        return '\\n'.join([f\"{no}: {vizinhos}\" for no, vizinhos in self.adj.items()])\n",
    "\n",
    "    def adicionar_vertice(self, n1):\n",
    "        if n1 not in self.adj:\n",
    "            self.adj[n1] = []\n",
    "\n",
    "    def adicionar_aresta(self, n1, n2, peso=1, bidirecional=True):\n",
    "        # Garante que os nós existam no dicionário de adjacência\n",
    "        if n1 not in self.adj:\n",
    "            self.adj[n1] = []\n",
    "        if n2 not in self.adj:\n",
    "            self.adj[n2] = []\n",
    "\n",
    "        # Adiciona a aresta de n1 para n2\n",
    "        self.adj[n1].append((n2, peso))\n",
    "\n",
    "        # Se for bidirecional, adiciona a aresta de n2 para n1\n",
    "        if bidirecional:\n",
    "            self.adj[n2].append((n1, peso))\n",
    "\n",
    "    def obter_vizinhos(self, n):\n",
    "        # Retorna a lista de vizinhos de um nó.\n",
    "        # Retorna uma lista vazia se o nó não existir.\n",
    "        return self.adj.get(n, [])"
   ]
  },
  {
   "cell_type": "code",
   "execution_count": null,
   "id": "52612234",
   "metadata": {},
   "outputs": [],
   "source": [
    "print(\"--- Grafo com Inteiros ---\")\n",
    "grafo_numeros = GrafoLA()\n",
    "grafo_numeros.adicionar_aresta(0, 1, peso=3)\n",
    "grafo_numeros.adicionar_aresta(0, 2, bidirecional=False)\n",
    "grafo_numeros.adicionar_aresta(1, 3)\n",
    "print(grafo_numeros) # Saída: 0: [1, 2]\\n1: [0, 3]\\n2: [0]\\n3: [1]\n",
    "\n",
    "print(\"\\nVizinhos de 0:\", grafo_numeros.obter_vizinhos(0)) # Saída: Vizinhos de 0: [1, 2]\n",
    "print(\"Vizinhos de 5 (não existe):\", grafo_numeros.obter_vizinhos(5)) # Saída: Vizinhos de 5 (não existe): []"
   ]
  },
  {
   "cell_type": "code",
   "execution_count": null,
   "id": "649efabd",
   "metadata": {},
   "outputs": [],
   "source": [
    "print(\"--- Grafo com Strings ---\")\n",
    "grafo_nomes = GrafoLA()\n",
    "grafo_nomes.adicionar_aresta(\"Alice\", \"Bob\")\n",
    "grafo_nomes.adicionar_aresta(\"Bob\", \"Carol\", bidirecional=False) # Apenas Bob -> Carol\n",
    "grafo_nomes.adicionar_aresta(\"Carol\", \"David\")\n",
    "print(grafo_nomes) # Saída: Alice: ['Bob']\\nBob: ['Alice', 'Carol']\\nCarol: ['Bob', 'David']\\nDavid: ['Carol']\n",
    "\n",
    "print(\"\\nVizinhos de 'Alice':\", grafo_nomes.obter_vizinhos(\"Alice\")) # Saída: Vizinhos de 'Alice': ['Bob']\n",
    "print(\"Vizinhos de 'Bob':\", grafo_nomes.obter_vizinhos(\"Bob\"))     # Saída: Vizinhos de 'Bob': ['Alice', 'Carol']"
   ]
  },
  {
   "cell_type": "code",
   "execution_count": null,
   "id": "3ae504a0",
   "metadata": {},
   "outputs": [],
   "source": [
    "\n",
    "print(\"--- Grafo com Strings e Inteiros Misturados ---\")\n",
    "grafo_misto = GrafoLA()\n",
    "grafo_misto.adicionar_aresta(\"Servidor1\", 10)\n",
    "grafo_misto.adicionar_aresta(10, \"Servidor2\")\n",
    "grafo_misto.adicionar_aresta(\"Servidor2\", \"Impressora3\")\n",
    "print(grafo_misto)\n",
    "\n",
    "print(\"\\nVizinhos de 'Servidor1':\", grafo_misto.obter_vizinhos(\"Servidor1\"))\n",
    "print(\"Vizinhos de 10:\", grafo_misto.obter_vizinhos(10))"
   ]
  },
  {
   "cell_type": "markdown",
   "id": "19c59ba2",
   "metadata": {},
   "source": [
    "------------------------------"
   ]
  },
  {
   "cell_type": "markdown",
   "id": "da036628",
   "metadata": {},
   "source": [
    "Implemente o grafo ilustrado pela figura abaixo, utilizando a representação baseada em uma lista de adjacências. Em seguida, observe a lista de adjacências que representa o grafo.\n",
    "\n",
    "<img src=https://s3-sa-east-1.amazonaws.com/lcpi/c5b98cc3-2c85-4d9a-b1e8-aaa4b1aba9b3.png width=300, style=\"background: white\">"
   ]
  },
  {
   "cell_type": "code",
   "execution_count": 5,
   "id": "ac8f3b70",
   "metadata": {},
   "outputs": [
    {
     "name": "stdout",
     "output_type": "stream",
     "text": [
      "0: []\n",
      "1: [(3, 1)]\n",
      "3: [(1, 1)]\n"
     ]
    }
   ],
   "source": [
    "g = GrafoLA()\n",
    "\n",
    "g.adicionar_vertice(0)\n",
    "g.adicionar_aresta(1, 3)\n",
    "\n",
    "print(g)"
   ]
  },
  {
   "cell_type": "markdown",
   "id": "ffff99ef",
   "metadata": {},
   "source": [
    "Por que incluir um vértice sozinho?\n",
    "\n",
    "Pensem em um jogo de rpg, onde temos um mapa para explorar. Em um determinado momento, conversamos com um NPC e ele passa uma missão para ser feita na cidade 0, mas ainda não sabemos o caminho até zero.\n",
    "\n",
    "Mas sabemos que ela está lá.\n",
    "\n",
    "Aqui é a mesma coisa. Não sabemos qual a ligação do vértice 0 com os demais vértices do grafo, mas sabemos que o vértice 0 existe na nossa representação.\n",
    "\n",
    "Fazendo um novo paralelo, imaginem que o grafo acima mostra as ligações entre computadores em uma rede local.\n",
    "\n",
    "O computador 0 não está conectado com ninguém porque está desligado. Mas quando for ligado, o grafo vai se atualizar e conectar o 0 com outro computador."
   ]
  },
  {
   "cell_type": "markdown",
   "id": "a384a046",
   "metadata": {},
   "source": [
    "------------------------------"
   ]
  },
  {
   "cell_type": "markdown",
   "id": "ed9419ac",
   "metadata": {},
   "source": [
    "Pergunta: como podemos representar grafos ponderados com lista de adjacência?\n",
    "\n",
    "Com uma tupla"
   ]
  },
  {
   "cell_type": "markdown",
   "id": "451079d3",
   "metadata": {},
   "source": [
    "## Percurso em Grafo: Como visitar todo mundo?\n",
    "\n",
    "**percurso** ou **busca**: passar por todos os vértices do grafo de forma organizada.\n",
    "\n",
    "<img src=\"https://miro.medium.com/max/1280/0*miG6xdyYzdvrB67S.gif\" width=450\\>\n",
    "\n",
    "&nbsp;\n",
    "\n",
    "### 1\\. Busca em profundidade (DFS - *Depth-First Search*)\n",
    "\n",
    "A DFS é a estratégia do \"explorador de labirintos\".\n",
    "\n",
    "  - **Como funciona?** Ela escolhe um caminho e vai o mais fundo possível, até chegar a um beco sem saída. Só então ela volta (faz o *backtracking*) e tenta o próximo caminho disponível a partir da última encruzilhada.\n",
    "  - **Exemplo do mundo real**\n",
    "  \n",
    "    **Detectando ciclos em redes (Como circuitos elétricos ou outros)**: Estamos projetando um circuito elétrico ou analisando uma rede de tubulações. É crucial saber se existe um ciclo (um \"loop\" onde o fluxo pode voltar ao ponto de partida). Um ciclo pode indicar um problema de design, um curto-circuito ou até mesmo um \"loop infinito\" em um programa de computador. A DFS é ótima para isso porque, ao explorar profundamente um caminho, se ela encontrar um nó que já foi visitado e ainda está sendo processado na mesma \"ramificação\" da busca, ela detecta um ciclo!\n",
    "  - **Exemplo prático:** Você está em um labirinto (o nosso \"grafo\") e quer encontrar algo ou simplesmente explorar todos os caminhos. A Busca em Profundidade (DFS) é como se você decidisse **ir o mais fundo possível por um caminho antes de voltar e tentar outro.**]\n",
    "\n",
    "  Você começa em um ponto (o **nó inicial**). Dali, você escolhe um caminho e o segue até o fim, sem desviar. Só quando não há mais para onde ir por aquele caminho, você volta um passo e tenta um caminho diferente, que ainda não explorou.\n",
    "\n",
    "&nbsp;\n",
    "\n",
    "Abaixo temos um exemplo de como a busca em profundidade percorreria esse grafo partindo do nó 0.\n",
    "\n",
    "<img src=\"https://s3-sa-east-1.amazonaws.com/lcpi/0084b080-e980-46d0-8694-55895333a3e7.jpg\" width=600>"
   ]
  },
  {
   "cell_type": "markdown",
   "id": "c8499f4e",
   "metadata": {},
   "source": [
    "Abaixo podemos visualizar a implementação de uma busca em profundidade (DFS) em um grafo como lista de adjacências."
   ]
  },
  {
   "cell_type": "code",
   "execution_count": null,
   "id": "406b6701",
   "metadata": {},
   "outputs": [],
   "source": [
    "class GrafoLA:\n",
    "    def __init__(self):\n",
    "        # Usaremos um dicionário para mapear rótulos de nós (inteiros ou strings)\n",
    "        # para suas listas de adjacência.\n",
    "        self.adj = {}\n",
    "        # Para controlar os nós visitados em algoritmos como Busca em Profundidade (DFS) e Busca em Largura (BFS),\n",
    "        # usaremos um dicionário que mapeia o rótulo do nó para um status (0 para não visitado, 1 para visitado).\n",
    "        self.__visitado = {}\n",
    "        self.ordem_visitados = []\n",
    "\n",
    "    def __str__(self):\n",
    "        # Retorna uma representação legível do grafo.\n",
    "        # Ex: \"A: ['B', 'C']\\nB: ['A']\"\n",
    "        return '\\n'.join([f\"{no}: {vizinhos}\" for no, vizinhos in self.adj.items()])\n",
    "\n",
    "    def adicionar_vertice(self, n1):\n",
    "        if n1 not in self.adj:\n",
    "            self.adj[n1] = []\n",
    "            \n",
    "    def adicionar_aresta(self, n1, n2, bidirecional=True):\n",
    "        # Garante que os nós existam no dicionário de adjacência\n",
    "        if n1 not in self.adj:\n",
    "            self.adj[n1] = []\n",
    "        if n2 not in self.adj:\n",
    "            self.adj[n2] = []\n",
    "\n",
    "        # Adiciona a aresta de n1 para n2\n",
    "        self.adj[n1].append(n2)\n",
    "\n",
    "        # Se for bidirecional, adiciona a aresta de n2 para n1\n",
    "        if bidirecional:\n",
    "            self.adj[n2].append(n1)\n",
    "\n",
    "    def obter_vizinhos(self, n):\n",
    "        # Retorna a lista de vizinhos de um nó.\n",
    "        # Retorna uma lista vazia se o nó não existir.\n",
    "        return self.adj.get(n, [])\n",
    "    \n",
    "    # Comum para DFS e BFS\n",
    "    def __visitar(self, no): # 'node' -> 'no'\n",
    "        # Marca um nó como visitado e o adiciona à ordem de visita.\n",
    "        self.__visitado[no] = 1\n",
    "        self.ordem_visitados.append(no)\n",
    "\n",
    "    # DFS - Busca em Profundidade\n",
    "    def __dfs(self, n):\n",
    "        # Implementação recursiva da Busca em Profundidade (DFS).\n",
    "        self.__visitar(n)\n",
    "        for vizinho in self.obter_vizinhos(n):\n",
    "            # Verifica se o vizinho não foi visitado.\n",
    "            if self.__visitado.get(vizinho, 0) == 0:\n",
    "                self.__dfs(vizinho)\n",
    "\n",
    "    def DFS(self, no_inicial):\n",
    "        # Inicia a Busca em Profundidade (DFS) a partir de um nó.\n",
    "        # Redefine o status de visitado para todos os nós para cada nova execução de DFS.\n",
    "        self.__visitado = {no: 0 for no in self.adj}\n",
    "        self.ordem_visitados = []\n",
    "        if no_inicial in self.adj:\n",
    "            self.__dfs(no_inicial)\n",
    "        return self.ordem_visitados\n",
    "    # DFS - Busca em profundidade"
   ]
  },
  {
   "cell_type": "code",
   "execution_count": null,
   "id": "bd14fb7c",
   "metadata": {},
   "outputs": [],
   "source": [
    "# Pseudocodigo da DFS\n",
    "\n",
    "# FUNÇÃO __visitar(self, no):\n",
    "#   Marca um nó como visitado e o adiciona à ordem de visita.\n",
    "#   DEFINIR self.__visitado[no] = 1\n",
    "#   ADICIONAR no A self.ordem_visitados\n",
    "# FIM FUNÇÃO\n",
    "\n",
    "# FUNÇÃO __dfs(self, n):\n",
    "#   Implementação recursiva da Busca em Profundidade (DFS).\n",
    "#   CHAMAR __visitar(self, n)\n",
    "#   PARA CADA vizinho EM self.obter_vizinhos(n):\n",
    "#     # Verifica se o vizinho não foi visitado.\n",
    "#     SE self.__visitado.GET(vizinho, 0) É IGUAL A 0:\n",
    "#       CHAMAR self.__dfs(vizinho)\n",
    "#   FIM PARA\n",
    "# FIM FUNÇÃO\n",
    "\n",
    "# FUNÇÃO DFS(self, no_inicial):\n",
    "#   Inicia a Busca em Profundidade (DFS) a partir de um nó.\n",
    "#   Redefine o status de visitado para todos os nós para cada nova execução de DFS.\n",
    "#   DEFINIR self.__visitado = UM DICIONÁRIO ONDE CADA no EM self.adj TEM VALOR 0\n",
    "#   DEFINIR self.ordem_visitados = UMA LISTA VAZIA\n",
    "#   SE no_inicial ESTÁ EM self.adj:\n",
    "#     CHAMAR self.__dfs(no_inicial)\n",
    "#   FIM SE\n",
    "#   RETORNAR self.ordem_visitados\n",
    "# FIM FUNÇÃO"
   ]
  },
  {
   "cell_type": "markdown",
   "id": "8f3160ca",
   "metadata": {},
   "source": [
    "#### As Ferramentas da DFS: O que ela precisa?\n",
    "\n",
    "Para a DFS funcionar, ela usa algumas \"ferramentas\" ou informações:\n",
    "\n",
    "- `self.adj` **(Suas adjacências/vizinhos)**: Pense nisso como o mapa do labirinto. Para cada canto (nó), ele te diz quais outros cantos (vizinhos) você pode ir diretamente.\n",
    "\n",
    "- `self.__visitado` **(Seu diário de bordo)**: Este é um diário onde você anota por quais cantos (nós) você já passou. Isso é super importante para não ficar andando em círculos e para saber quais caminhos você já explorou. Se um nó está no diário como \"visitado\", você não precisa ir lá de novo.\n",
    "\n",
    "- `self.ordem_visitados` **(Seu caminho percorrido)**: Uma lista que guarda a sequência de cantos (nós) que você visitou na sua exploração."
   ]
  },
  {
   "cell_type": "markdown",
   "id": "20abef6a",
   "metadata": {},
   "source": [
    "#### Entendendo as Funções: Passo a Passo\n",
    "\n",
    "1. `__visitar(self, no)`: **Marcando o caminho**\n",
    "\n",
    "    Esta é uma função simples, mas fundamental. Toda vez que você chega a um novo canto (nó) no labirinto:\n",
    "\n",
    "- Você o marca no seu diário (`self.__visitado[no] = 1`) para dizer \"já estive aqui\".\n",
    "\n",
    "- Você anota esse canto na sua lista de \"caminhos percorridos\" (`self.ordem_visitados.append(no)`).\n",
    "\n",
    "&nbsp;"
   ]
  },
  {
   "cell_type": "markdown",
   "id": "2194f305",
   "metadata": {},
   "source": [
    "\n",
    "2. `__dfs(self, n)`: **A exploração \"profunda\" (A alma da DFS)**\n",
    "\n",
    "    Esta é a função principal que faz a exploração acontecer, e ela é **recursiva**. Isso significa que ela se chama várias vezes para ir mais fundo nos caminhos.\n",
    "\n",
    "- `self.__visitar(n)`: Primeiro, assim que você chega a um nó `n`, você o marca como visitado.\n",
    "\n",
    "- `for vizinho in self.obter_vizinhos(n):`: Agora, você olha para todos os caminhos que saem desse nó `n` (seus vizinhos).\n",
    "\n",
    "- `if self.__visitado.get(vizinho, 0) == 0:`: Para cada vizinho, você consulta seu diário de bordo. Se o vizinho ainda não foi visitado (o valor é `0` ou ele nem está no diário, o que significa `0`), então:\n",
    "\n",
    "- `self.__dfs(vizinho)`: Você decide \"ir fundo\" por esse vizinho. A função `__dfs` é chamada novamente, mas agora para o `vizinho`. É como se você entrasse em uma nova parte do labirinto, e a função continua a partir dali, indo o mais fundo possível.\n",
    "\n",
    "- **Volta**: Só quando a `__dfs` para um vizinho termina (ou seja, não há mais caminhos novos a partir daquele vizinho e seus descendentes), ela \"volta\" para onde estava antes e tenta o próximo vizinho (se houver)."
   ]
  },
  {
   "cell_type": "markdown",
   "id": "91c73005",
   "metadata": {},
   "source": [
    "3. `DFS(self, no_inicial)`: **Onde a aventura começa!**\n",
    "\n",
    "    Esta é a função que você chama para iniciar a busca:\n",
    "\n",
    "- `self.__visitado = {no: 0 for no in self.adj}`: Antes de começar uma nova exploração, você limpa seu diário de bordo! Marca todos os nós do labirinto como \"não visitados\" (`0`), para que você possa começar do zero.\n",
    "\n",
    "- `self.ordem_visitados = []`: Zera sua lista de caminhos percorridos também.\n",
    "\n",
    "- `if no_inicial in self.adj:`: Verifica se o nó de onde você quer começar a exploração (`no_inicial`) realmente existe no seu mapa (`self.adj`). Se não existir, não há como começar, então a função não faz nada.\n",
    "\n",
    "- `self.__dfs(no_inicial)`: Agora sim, a magia começa! Você chama a função `__dfs` para iniciar a exploração a partir do `no_inicial`.\n",
    "\n",
    "- `return self.ordem_visitados`: Depois que a `__dfs` termina toda a exploração (ou seja, ela visitou todos os cantos alcançáveis a partir do `no_inicial`), a função `DFS` te devolve a lista completa da ordem em que os nós foram visitados."
   ]
  },
  {
   "cell_type": "markdown",
   "id": "c0fa6d77",
   "metadata": {},
   "source": [
    "---------------------------"
   ]
  },
  {
   "cell_type": "markdown",
   "id": "01f4bb88",
   "metadata": {},
   "source": [
    "<img src=\"https://s3-sa-east-1.amazonaws.com/lcpi/9775dad0-c900-42e9-87fa-41d78b73444c.jpg\" width=500\\>"
   ]
  },
  {
   "cell_type": "code",
   "execution_count": 32,
   "id": "b7bd0123",
   "metadata": {},
   "outputs": [
    {
     "name": "stdout",
     "output_type": "stream",
     "text": [
      "0: [1, 2]\n",
      "1: [0, 2, 3]\n",
      "2: [0, 1, 4]\n",
      "3: [1, 4]\n",
      "4: [2, 3, 5]\n",
      "5: [4, 6]\n",
      "6: [5] \n",
      "\n"
     ]
    },
    {
     "data": {
      "text/plain": [
       "[0, 1, 2, 4, 3, 5, 6]"
      ]
     },
     "execution_count": 32,
     "metadata": {},
     "output_type": "execute_result"
    }
   ],
   "source": [
    "g3 = GrafoLA()\n",
    "g3.adicionar_aresta(0, 1)\n",
    "g3.adicionar_aresta(0, 2)\n",
    "g3.adicionar_aresta(1, 2)\n",
    "g3.adicionar_aresta(1, 3)\n",
    "g3.adicionar_aresta(2, 4)\n",
    "g3.adicionar_aresta(3, 4)\n",
    "g3.adicionar_aresta(4, 5)\n",
    "g3.adicionar_aresta(5, 6)\n",
    "print(g3, \"\\n\")\n",
    "\n",
    "ordem_visitados = g3.DFS(0)\n",
    "ordem_visitados"
   ]
  },
  {
   "cell_type": "markdown",
   "id": "2b78ff6d",
   "metadata": {},
   "source": [
    "\n",
    "### 2\\. Busca em Largura (BFS - *Breadth-First Search*)\n",
    "\n",
    "A BFS é a estratégia do \"efeito cascata\" ou das \"camadas\".\n",
    "\n",
    "  - **Como funciona?** A partir de um ponto inicial, ela primeiro visita todos os vizinhos diretos (a 1ª camada). Depois, visita todos os vizinhos *desses vizinhos* (a 2ª camada), e assim por diante, se espalhando como as ondas na água.\n",
    "  - **Exemplo do mundo real**: Encontrar o caminho mais curto em um sistema de navegação, ou amigos em redes sociais.\n",
    "  - **Exemplo prático:** Em uma rede social, como o LinkedIn, para encontrar os seus \"amigos de amigos\". A BFS primeiro lista todos os seus amigos diretos (1ª camada) e depois lista todos os amigos deles (2ª camada).\n",
    "\n",
    "\n",
    "&nbsp;\n",
    "\n",
    "A figura abaixo mostra um exemplo gráfico desse comportamento em camadas.\n",
    "\n",
    "<img src=\"https://s3-sa-east-1.amazonaws.com/lcpi/a67dd98f-8578-4bda-a710-903d7de9ceb6.jpg\" width=600>\n",
    "\n",
    "&nbsp;\n",
    "\n",
    "Notem que a ordem de visitação imposta pela BFS é parcial.\n",
    "\n",
    "Existem diferentes ordens possíveis que podem ser feitas pelo percurso BFS, o importante é respeitar as camadas.\n",
    "\n",
    "Por exemplo, não importa se 1 foi visitado antes do 3 ou se o 3 foi visitado antes do 1 desde que ambos tenham sido visitados antes de 2, 4 e 5."
   ]
  },
  {
   "cell_type": "code",
   "execution_count": 2,
   "id": "78717d8b",
   "metadata": {},
   "outputs": [],
   "source": [
    "class GrafoLA:\n",
    "    def __init__(self):\n",
    "        # Usaremos um dicionário para mapear rótulos de nós (inteiros ou strings)\n",
    "        # para suas listas de adjacência.\n",
    "        self.adj = {}\n",
    "        # Para controlar os nós visitados em algoritmos como Busca em Profundidade (DFS) e Busca em Largura (BFS),\n",
    "        # usaremos um dicionário que mapeia o rótulo do nó para um status (0 para não visitado, 1 para visitado).\n",
    "        self.__visitado = {}\n",
    "        self.ordem_visitados = []\n",
    "\n",
    "    def __str__(self):\n",
    "        # Retorna uma representação legível do grafo.\n",
    "        # Ex: \"A: ['B', 'C']\\nB: ['A']\"\n",
    "        return '\\n'.join([f\"{no}: {vizinhos}\" for no, vizinhos in self.adj.items()])\n",
    "\n",
    "    def adicionar_vertice(self, n1):\n",
    "        if n1 not in self.adj:\n",
    "            self.adj[n1] = []\n",
    "            \n",
    "    def adicionar_aresta(self, n1, n2, bidirecional=True):\n",
    "        # Garante que os nós existam no dicionário de adjacência\n",
    "        if n1 not in self.adj:\n",
    "            self.adj[n1] = []\n",
    "        if n2 not in self.adj:\n",
    "            self.adj[n2] = []\n",
    "\n",
    "        # Adiciona a aresta de n1 para n2\n",
    "        self.adj[n1].append(n2)\n",
    "\n",
    "        # Se for bidirecional, adiciona a aresta de n2 para n1\n",
    "        if bidirecional:\n",
    "            self.adj[n2].append(n1)\n",
    "\n",
    "    def obter_vizinhos(self, n):\n",
    "        # Retorna a lista de vizinhos de um nó.\n",
    "        # Retorna uma lista vazia se o nó não existir.\n",
    "        return self.adj.get(n, [])\n",
    "\n",
    "    # Comum para DFS e BFS\n",
    "    def __visitar(self, no): # 'node' -> 'no'\n",
    "        # Marca um nó como visitado e o adiciona à ordem de visita.\n",
    "        self.__visitado[no] = 1\n",
    "        self.ordem_visitados.append(no)\n",
    "\n",
    "    # DFS - Busca em Profundidade\n",
    "    def __dfs(self, n):\n",
    "        # Implementação recursiva da Busca em Profundidade (DFS).\n",
    "        self.__visitar(n)\n",
    "        for vizinho in self.obter_vizinhos(n):\n",
    "            # Verifica se o vizinho não foi visitado.\n",
    "            if self.__visitado.get(vizinho, 0) == 0:\n",
    "                self.__dfs(vizinho)\n",
    "\n",
    "    def DFS(self, no_inicial):\n",
    "        # Inicia a Busca em Profundidade (DFS) a partir de um nó.\n",
    "        # Redefine o status de visitado para todos os nós para cada nova execução de DFS.\n",
    "        self.__visitado = {no: 0 for no in self.adj}\n",
    "        self.ordem_visitados = []\n",
    "        if no_inicial in self.adj:\n",
    "            self.__dfs(no_inicial)\n",
    "        return self.ordem_visitados\n",
    "    # DFS - Busca em profundidade\n",
    "\n",
    "    # BFS - Busca em largura\n",
    "    def BFS(self, no_inicial):\n",
    "        # Inicia a Busca em Largura (BFS) a partir de um nó.\n",
    "        # Redefine o status de visitado para todos os nós.\n",
    "        self.__visitado = {no: 0 for no in self.adj}\n",
    "        self.ordem_visitados = []\n",
    "        fila = []  # Usaremos uma lista como fila para a BFS\n",
    "\n",
    "        if no_inicial not in self.adj:\n",
    "            return self.ordem_visitados\n",
    "\n",
    "        self.__visitar(no_inicial)\n",
    "        fila.append(no_inicial)\n",
    "\n",
    "        while fila:\n",
    "            no_atual = fila.pop(0)  # Pega o primeiro nó da fila\n",
    "            for vizinho in self.obter_vizinhos(no_atual):\n",
    "                if self.__visitado.get(vizinho, 0) == 0:\n",
    "                    self.__visitar(vizinho)\n",
    "                    fila.append(vizinho)\n",
    "        return self.ordem_visitados\n",
    "    # BFS - Busca em largura"
   ]
  },
  {
   "cell_type": "code",
   "execution_count": null,
   "id": "ad102118",
   "metadata": {},
   "outputs": [],
   "source": [
    "# FUNÇÃO BFS(self, no_inicial):\n",
    "#   Inicia a Busca em Largura (BFS) a partir de um nó.\n",
    "#   Redefine o status de visitado para todos os nós.\n",
    "\n",
    "#   DEFINIR self.__visitado = UM DICIONÁRIO ONDE CADA no EM self.adj TEM VALOR 0\n",
    "#   DEFINIR self.ordem_visitados = UMA LISTA VAZIA\n",
    "#   DEFINIR fila = UMA LISTA VAZIA // Usaremos uma lista como fila para a BFS\n",
    "\n",
    "#   SE no_inicial NÃO ESTÁ EM self.adj:\n",
    "#     RETORNAR self.ordem_visitados // O nó inicial não existe no grafo\n",
    "#   FIM SE\n",
    "\n",
    "#   CHAMAR self.__visitar(no_inicial) // Marca o nó inicial como visitado\n",
    "#   ADICIONAR no_inicial À fila\n",
    "\n",
    "#   ENQUANTO fila NÃO ESTÁ VAZIA:\n",
    "#     DEFINIR no_atual = REMOVER PRIMEIRO ELEMENTO DA fila // Pega o primeiro nó da fila\n",
    "#     PARA CADA vizinho EM self.obter_vizinhos(no_atual):\n",
    "#       SE self.__visitado.GET(vizinho, 0) É IGUAL A 0: // Verifica se o vizinho não foi visitado.\n",
    "#         CHAMAR self.__visitar(vizinho) // Marca o vizinho como visitado\n",
    "#         ADICIONAR vizinho À fila\n",
    "#       FIM SE\n",
    "#     FIM PARA\n",
    "#   FIM ENQUANTO\n",
    "\n",
    "#   RETORNAR self.ordem_visitados\n",
    "# FIM FUNÇÃO"
   ]
  },
  {
   "cell_type": "markdown",
   "id": "b99211ac",
   "metadata": {},
   "source": [
    "Pensando na ideia de percorrer o labirinto, a estratégia do BFS seria um pouco diferente.\n",
    "\n",
    "Se a Busca em Profundidade (DFS) era como ir o mais fundo possível em um caminho, a Busca em Largura (BFS) é como explorar o labirinto **passo a passo, visitando todos os cantos que estão mais próximos antes de ir para os mais distantes.**\n",
    "\n",
    "Imagine que você joga uma gota de tinta no seu ponto de partida. Essa gota se espalha para todos os cantos diretamente conectados a ela. Depois, de todos esses novos cantos, ela se espalha para os próximos, e assim por diante. A BFS faz exatamente isso: ela visita todos os \"vizinhos\" de um ponto, depois todos os \"vizinhos dos vizinhos\", e assim por diante, em uma ordem crescente de distância."
   ]
  },
  {
   "cell_type": "markdown",
   "id": "166353fc",
   "metadata": {},
   "source": [
    "#### As Ferramentas da BFS: O que ela precisa?\n",
    "\n",
    "A BFS usa as mesmas \"ferramentas\" básicas da DFS, mas com uma adição crucial:\n",
    "\n",
    "- `self.adj` **(Suas adjacências/vizinhos)**: O mapa do labirinto, mostrando quais cantos (nós) estão conectados diretamente.\n",
    "\n",
    "- `self.__visitado` **(Seu diário de bordo)**: O diário onde você anota por quais cantos (nós) você já passou, para não revisitar.\n",
    "\n",
    "- `self.ordem_visitados` **(Seu caminho percorrido)**: Uma lista que guarda a sequência de cantos (nós) que você visitou.\n",
    "\n",
    "- `fila` **(Sua Lista de Espera)**: Esta é a ferramenta mais importante da BFS. É uma lista onde você coloca os cantos que você **descobriu, mas que ainda não explorou**. Quando você termina de explorar um canto, você pega o próximo da fila."
   ]
  },
  {
   "cell_type": "markdown",
   "id": "270e4736",
   "metadata": {},
   "source": [
    "#### Entendendo a função `BFS(self, no_inicial)`: Passo a passo\n",
    "\n",
    "Esta é a função que orquestra toda a exploração em largura:\n",
    "\n",
    "1. **Preparação**:\n",
    "\n",
    "- `self.__visitado = {no: 0 for no in self.adj}`: Antes de começar, você limpa seu diário de bordo. Todos os cantos do labirinto são marcados como \"não visitados\" (`0`).\n",
    "\n",
    "- `self.ordem_visitados = []`: Zera sua lista de caminhos percorridos.\n",
    "\n",
    "- `fila = []`: Você cria uma **fila vazia**. Pense nela como uma fila de pessoas esperando para entrar em uma atração: quem chega primeiro é o primeiro a ser atendido.\n",
    "\n",
    "&nbsp;"
   ]
  },
  {
   "cell_type": "markdown",
   "id": "c68c6406",
   "metadata": {},
   "source": [
    "2. **Início da Aventura**:\n",
    "\n",
    "- `if no_inicial not in self.adj:`: Primeiro, verifica se o canto (`no_inicial`) de onde você quer começar existe no seu mapa. Se não existir, a busca não tem como iniciar, e a função retorna a lista vazia.\n",
    "\n",
    "- `self.__visitar(no_inicial)`: Se o nó existe, você o marca no diário como visitado. Ele é o primeiro canto que você explora.\n",
    "\n",
    "- `fila.append(no_inicial)`: E, como ele é o primeiro a ser explorado, você o coloca na sua fila de espera.\n",
    "\n",
    "&nbsp;"
   ]
  },
  {
   "cell_type": "markdown",
   "id": "e4d3cce2",
   "metadata": {},
   "source": [
    "3. **Exploração em Largura (O Loop Principal)**:\n",
    "\n",
    "- `while fila:`: Este é o coração da BFS. O processo continua enquanto houver cantos na sua fila esperando para serem explorados.\n",
    "\n",
    "- `no_atual = fila.pop(0)`: Aqui está a chave da BFS! Você pega o **primeiro** canto que entrou na fila (por isso é \"em largura\", você atende os mais antigos/próximos primeiro).\n",
    "\n",
    "    Esse é o `no_atual` que você vai explorar agora.\n",
    "\n",
    "- `for vizinho in self.obter_vizinhos(no_atual):`: Você olha para todos os caminhos que saem do seu `no_atual` (todos os seus vizinhos diretos).\n",
    "\n",
    "- `if self.__visitado.get(vizinho, 0) == 0:`: Para cada vizinho, você consulta seu diário. Se o vizinho ainda não foi visitado (`0`):\n",
    "\n",
    "    - `self.__visitar(vizinho)`: Você o marca como visitado.\n",
    "\n",
    "    - `fila.append(vizinho)`: E **adiciona esse vizinho ao final da fila**. Ele vai esperar a vez dele para ser explorado.\n",
    "\n",
    "&nbsp;"
   ]
  },
  {
   "cell_type": "markdown",
   "id": "aaeb91cc",
   "metadata": {},
   "source": [
    "4. **Fim da Busca**:\n",
    "\n",
    "- `return self.ordem_visitados`: Quando a fila estiver vazia (significa que você explorou todos os cantos alcançáveis), a função te devolve a ordem em que você visitou cada um deles."
   ]
  },
  {
   "cell_type": "markdown",
   "id": "7e9e1bdb",
   "metadata": {},
   "source": [
    "---------------------------"
   ]
  },
  {
   "cell_type": "markdown",
   "id": "e17d7c0c",
   "metadata": {},
   "source": [
    "<img src=\"https://s3-sa-east-1.amazonaws.com/lcpi/9775dad0-c900-42e9-87fa-41d78b73444c.jpg\" width=500\\>"
   ]
  },
  {
   "cell_type": "code",
   "execution_count": 4,
   "id": "7a047079",
   "metadata": {},
   "outputs": [
    {
     "name": "stdout",
     "output_type": "stream",
     "text": [
      "0: [1]\n",
      "1: [0]\n",
      "0: [1, 2]\n",
      "1: [0]\n",
      "2: [0]\n",
      "0: [1, 2]\n",
      "1: [0, 2]\n",
      "2: [0, 1]\n",
      "0: [1, 2]\n",
      "1: [0, 2, 3]\n",
      "2: [0, 1, 4]\n",
      "3: [1, 4]\n",
      "4: [2, 3, 5]\n",
      "5: [4, 6]\n",
      "6: [5] \n",
      "\n"
     ]
    },
    {
     "data": {
      "text/plain": [
       "[4, 2, 3, 5, 0, 1, 6]"
      ]
     },
     "execution_count": 4,
     "metadata": {},
     "output_type": "execute_result"
    }
   ],
   "source": [
    "g3 = GrafoLA()\n",
    "g3.adicionar_aresta(0, 1)\n",
    "g3.adicionar_aresta(0, 2)\n",
    "g3.adicionar_aresta(1, 2)\n",
    "g3.adicionar_aresta(1, 3)\n",
    "g3.adicionar_aresta(2, 4)\n",
    "g3.adicionar_aresta(3, 4)\n",
    "g3.adicionar_aresta(4, 5)\n",
    "g3.adicionar_aresta(5, 6)\n",
    "print(g3, \"\\n\")\n",
    "\n",
    "ordem_visitados = g3.BFS(4)\n",
    "ordem_visitados"
   ]
  }
 ],
 "metadata": {
  "kernelspec": {
   "display_name": "Python 3",
   "language": "python",
   "name": "python3"
  },
  "language_info": {
   "codemirror_mode": {
    "name": "ipython",
    "version": 3
   },
   "file_extension": ".py",
   "mimetype": "text/x-python",
   "name": "python",
   "nbconvert_exporter": "python",
   "pygments_lexer": "ipython3",
   "version": "3.13.5"
  }
 },
 "nbformat": 4,
 "nbformat_minor": 5
}
