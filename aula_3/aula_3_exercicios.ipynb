{
 "cells": [
  {
   "cell_type": "markdown",
   "id": "ba54e5ea",
   "metadata": {},
   "source": [
    "# Exercícios\n",
    "\n",
    "Dado os códigos abaixo, tente identificar qual a complexidade de tempo e de espaço dos algoritmos abaixo e justifique:"
   ]
  },
  {
   "cell_type": "markdown",
   "id": "e0efc3b8",
   "metadata": {},
   "source": [
    "## Exemplo\n",
    "\n",
    "Busca Sequencial"
   ]
  },
  {
   "cell_type": "code",
   "execution_count": null,
   "id": "7440c922",
   "metadata": {},
   "outputs": [],
   "source": [
    "### Busca sequencial\n",
    "\n",
    "def busca_sequencial(lista, x):\n",
    "    # C1: Atribuição do 'valor' para percorrer a lista, uma vez (constante, antes do loop)\n",
    "    # Dependente da entrada (N): O loop 'for' pode executar até N vezes.\n",
    "    for valor in lista: # N iterações no pior caso\n",
    "        # C2: Comparação de 'x' com 'valor' (dependente de N)\n",
    "        if x == valor: # N comparações no pior caso\n",
    "            # C3: Retorno do valor (constante)\n",
    "            return valor # Acontece 1 vez se o elemento for encontrado\n",
    "    # C4: Retorno de None (constante)\n",
    "    return None # Acontece 1 vez se o elemento não for encontrado"
   ]
  },
  {
   "cell_type": "markdown",
   "id": "d40634eb",
   "metadata": {},
   "source": [
    "**Complexidade de Tempo**:\n",
    "\n",
    "`Melhor Caso`: **O(1)** - O elemento é o primeiro da lista.\n",
    "\n",
    "`Pior Caso`: **O(N)** - O elemento é o último da lista ou não está presente. O algoritmo precisa percorrer todos os N elementos.\n",
    "\n",
    "`Caso Médio`: **O(N)** - Em média, percorre metade da lista.\n",
    "\n",
    "**Complexidade de Espaço**:\n",
    "\n",
    "**O(1)** - A função usa apenas algumas variáveis (idx, valor, x, lista). O espaço ocupado por essas variáveis é constante e não cresce com o tamanho da lista."
   ]
  },
  {
   "cell_type": "markdown",
   "id": "3b66b747",
   "metadata": {},
   "source": [
    "## Exercício 2\n",
    "\n",
    "Busca binária"
   ]
  },
  {
   "cell_type": "code",
   "execution_count": null,
   "id": "ab30da15",
   "metadata": {},
   "outputs": [],
   "source": [
    "### Busca binária\n",
    "\n",
    "from math import floor\n",
    "\n",
    "def busca_binaria(lista_atual, x):\n",
    "    inferior = 0\n",
    "    superior = len(lista_atual) - 1\n",
    "    \n",
    "    while inferior <= superior:\n",
    "        meio = floor((inferior + superior) / 2)\n",
    "        \n",
    "        print(f'inferior: {inferior}, superior: {superior}, meio: {meio}')\n",
    "        \n",
    "        if lista_atual[meio] == x:\n",
    "            return lista_atual[meio]\n",
    "        elif lista_atual[meio] < x:\n",
    "            inferior = meio + 1\n",
    "        else:\n",
    "            superior = meio - 1\n",
    "    return None"
   ]
  },
  {
   "cell_type": "markdown",
   "id": "f61d51ae",
   "metadata": {},
   "source": [
    "**Complexidade de Tempo:**\n",
    "\n",
    "**Complexidade de Espaço:**\n"
   ]
  },
  {
   "cell_type": "markdown",
   "id": "3b694ace",
   "metadata": {},
   "source": [
    "## Exercício 3\n",
    "\n",
    "Bubble Sort"
   ]
  },
  {
   "cell_type": "code",
   "execution_count": null,
   "id": "39930149",
   "metadata": {},
   "outputs": [],
   "source": [
    "### Bubble sort\n",
    "\n",
    "def bubble_sort(lista):\n",
    "    tamanho_lista = len(lista)\n",
    "\n",
    "    for i in range(tamanho_lista):\n",
    "        for j in range(tamanho_lista - 1):\n",
    "            if lista[j] > lista[j+1]:\n",
    "                lista[j], lista[j+1] = lista[j+1], lista[j]\n",
    "    return lista\n"
   ]
  },
  {
   "cell_type": "code",
   "execution_count": null,
   "id": "dea12626",
   "metadata": {},
   "outputs": [],
   "source": [
    "# Bubble sort otimizado\n",
    "\n",
    "def bubble_sort(lista):\n",
    "    # Dependente da entrada (N): O loop externo executa N vezes.\n",
    "    for i in range(len(lista)): # N iterações\n",
    "        # Dependente da entrada (N): O loop interno executa (N-1) vezes.\n",
    "        # No pior caso, o loop interno executa N-1, 1 vezes.\n",
    "        for j in range(len(lista) - 1): # N-1 iterações\n",
    "            # C1: Comparação (constante por iteração do loop interno)\n",
    "            if lista[j] > lista[j+1]:\n",
    "                # C2: Troca de elementos (3 atribuições, constante por iteração)\n",
    "                lista[j], lista[j+1] = lista[j+1], lista[j]\n",
    "    # C3: Retorno da lista (constante)\n",
    "    return lista"
   ]
  },
  {
   "cell_type": "markdown",
   "id": "e26f00e0",
   "metadata": {},
   "source": [
    "**Complexidade de Tempo**:\n",
    "\n",
    "**Complexidade de Espaço**:\n"
   ]
  },
  {
   "cell_type": "markdown",
   "id": "94d8eba3",
   "metadata": {},
   "source": [
    "## Exercício 4\n",
    "\n",
    "Insertion Sort"
   ]
  },
  {
   "cell_type": "code",
   "execution_count": null,
   "id": "d969ee39",
   "metadata": {},
   "outputs": [],
   "source": [
    "### Insertion sort\n",
    "\n",
    "def insertion_sort(lista):\n",
    "    j = 1 \n",
    "    while j < len(lista):\n",
    "        temporario = lista[j]\n",
    "        i = j - 1\n",
    "        while i >= 0 and lista[i] > temporario:\n",
    "            lista[i + 1] = lista[i]\n",
    "            i -= 1 \n",
    "\n",
    "        lista[i + 1] = temporario\n",
    "        j += 1\n",
    "        \n",
    "    return lista"
   ]
  },
  {
   "cell_type": "markdown",
   "id": "d6d832ce",
   "metadata": {},
   "source": [
    "**Complexidade de Tempo**:\n",
    "\n",
    "**Complexidade de Espaço**:\n"
   ]
  },
  {
   "cell_type": "markdown",
   "id": "6622e3cc",
   "metadata": {},
   "source": [
    "## Exercício 5\n",
    "\n",
    "Merge Sort"
   ]
  },
  {
   "cell_type": "code",
   "execution_count": null,
   "id": "7303c375",
   "metadata": {},
   "outputs": [],
   "source": [
    "# Merge sort\n",
    "\n",
    "from math import floor\n",
    "\n",
    "def merge_sort(lista, inferior, superior):\n",
    "    if inferior < superior:\n",
    "        meio = floor((inferior + superior) / 2)\n",
    "        \n",
    "        merge_sort(lista, inferior, meio)\n",
    "        merge_sort(lista, meio + 1, superior)\n",
    "        \n",
    "        return unir_merge_sort(lista, inferior, meio, superior)\n",
    "    else:\n",
    "        return lista\n",
    "\n",
    "def unir_merge_sort(lista, inferior, meio, superior):\n",
    "    h = inferior\n",
    "    i = inferior\n",
    "    j = meio + 1\n",
    "    \n",
    "    lista_auxiliar = [-1] * len(lista)\n",
    "    \n",
    "    while h <= meio and j <= superior:\n",
    "        if lista[h] <= lista[j]:\n",
    "            lista_auxiliar[i] = lista[h]\n",
    "            h += 1\n",
    "        else:\n",
    "            lista_auxiliar[i] = lista[j]\n",
    "            j += 1\n",
    "        i += 1\n",
    "\n",
    "    if h > meio:\n",
    "        k = j\n",
    "        while k <= superior:\n",
    "            lista_auxiliar[i] = lista[k]\n",
    "            k += 1\n",
    "            i += 1\n",
    "    else:\n",
    "        k = h\n",
    "        while k <= meio:\n",
    "            lista_auxiliar[i] = lista[k]\n",
    "            k += 1\n",
    "            i += 1\n",
    "\n",
    "    k = inferior\n",
    "    while k <= superior:\n",
    "        lista[k] = lista_auxiliar[k]\n",
    "        k += 1\n",
    "        \n",
    "    return lista"
   ]
  },
  {
   "cell_type": "markdown",
   "id": "af438931",
   "metadata": {},
   "source": [
    "**Complexidade de Tempo**:\n",
    "\n",
    "**Complexidade de Espaço**:\n"
   ]
  }
 ],
 "metadata": {
  "language_info": {
   "name": "python"
  }
 },
 "nbformat": 4,
 "nbformat_minor": 5
}
