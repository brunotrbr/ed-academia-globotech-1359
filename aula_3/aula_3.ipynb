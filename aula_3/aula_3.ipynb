{
 "cells": [
  {
   "cell_type": "markdown",
   "id": "b95b21b9",
   "metadata": {},
   "source": [
    "# Recursão\n",
    "\n",
    "## O que é recursão?\n",
    "**Recursão** é um conceito em que uma função chama a si mesma para resolver um problema. Para que isso funcione, precisamos de duas coisas essenciais:\n",
    "\n",
    "1. **Caso base (ou condição de parada)**: É a condição mais simples do problema, que pode ser resolvida diretamente, sem mais chamadas recursivas. É o ponto onde a recursão para. Sem um caso base, a função chamaria a si mesma infinitamente, levando a um erro conhecido como `RecursionError` (Stack Overflow).\n",
    "\n",
    "2. **Passo recursivo**: É a parte onde a função chama a si mesma, mas com uma versão \"menor\" ou mais simples do problema original. A ideia é que cada chamada recursiva se aproxime do caso base."
   ]
  },
  {
   "cell_type": "markdown",
   "id": "315e520d",
   "metadata": {},
   "source": [
    "## Exemplo clássico: O fatorial\n",
    "\n",
    "> O fatorial de um número inteiro positivo *n*, representado por *n,* é o produto de todos os inteiros positivos menores ou iguais a *n*.\n",
    "\n",
    "&nbsp;\n",
    "\n",
    "Exemplo: Calcular o fatorial de 5 (ou `5!`)\n",
    "\n",
    "> 5! = 5 * 4 * 3 * 2 * 1 = 120\n",
    "\n",
    "&nbsp;\n",
    "\n",
    "Podemos definir o fatorial recursivamente da seguinte forma:\n",
    "\n",
    "- **Caso Base**: ....\n",
    "- **Passo Recursivo**: ...."
   ]
  },
  {
   "cell_type": "code",
   "execution_count": null,
   "id": "6fe6faa5",
   "metadata": {},
   "outputs": [],
   "source": [
    "def fatorial(n):\n",
    "    # 1. Caso Base: Quando a recursão deve parar?\n",
    "    # 2. Passo Recursivo: A função chama a si mesma com um problema menor\n",
    "    pass"
   ]
  },
  {
   "cell_type": "code",
   "execution_count": null,
   "id": "3d405a0b",
   "metadata": {},
   "outputs": [],
   "source": [
    "# Testando o fatorial\n",
    "\n",
    "print(f\"5! = {fatorial(5)}\")\n",
    "print(f\"0! = {fatorial(0)}\")\n",
    "print(f\"1! = {fatorial(1)}\")"
   ]
  },
  {
   "cell_type": "markdown",
   "id": "04638444",
   "metadata": {},
   "source": [
    "Como funciona `fatorial(5)`?\n",
    "\n",
    "`fatorial(5)` chama `5 * fatorial(4)`\n",
    "\n",
    "`fatorial(4)` chama `4 * fatorial(3)`\n",
    "\n",
    "`fatorial(3)` chama `3 * fatorial(2)`\n",
    "\n",
    "`fatorial(2)` chama `2 * fatorial(1)`\n",
    "\n",
    "`fatorial(1)` retorna `1` (caso base!)\n",
    "\n",
    "`fatorial(2)` recebe `1` e calcula `2 * 1 = 2`\n",
    "\n",
    "`fatorial(3)` recebe `2` e calcula `3 * 2 = 6`\n",
    "\n",
    "`fatorial(4)` recebe `6` e calcula `4 * 6 = 24`\n",
    "\n",
    "`fatorial(5)` recebe `24` e calcula `5 * 24 = 120`"
   ]
  },
  {
   "cell_type": "markdown",
   "id": "ab46d93e",
   "metadata": {},
   "source": [
    "## Casos onde a recursão brilha\n",
    "\n",
    "Embora muitos problemas recursivos possam ser resolvidos iterativamente (com loops), a recursão muitas vezes torna o código mais legível e elegante para certos tipos de problemas, especialmente aqueles que têm uma natureza naturalmente recursiva."
   ]
  },
  {
   "cell_type": "markdown",
   "id": "ae4b4c31",
   "metadata": {},
   "source": [
    "### Travessia de estruturas de dados hierárquicas (árvores)\n",
    "\n",
    "**Problema**: Você tem uma estrutura de pastas e subpastas no seu computador e quer listar todos os arquivos dentro de uma pasta e todas as suas subpastas.\n",
    "\n",
    "**Por que recursão é o melhor método?**\n",
    "Uma pasta pode conter subpastas, que por sua vez contêm mais subpastas, e assim por diante. Isso forma uma estrutura em árvore. A recursão é perfeita para percorrer árvores e estruturas aninhadas porque o processo de \"visitar uma pasta\" é o mesmo que \"visitar uma subpasta\".\n",
    "\n",
    "**Caso base**: Se a \"pasta\" atual não tem mais subpastas, você lista os arquivos dela e para.\n",
    "\n",
    "**Passo recursivo**: Se a \"pasta\" tem subpastas, você visita os arquivos dela e depois, para cada subpasta, você chama a mesma função para \"visitá-la\"."
   ]
  },
  {
   "cell_type": "code",
   "execution_count": null,
   "id": "bbc0fa77",
   "metadata": {},
   "outputs": [],
   "source": [
    "# Listar arquivos de forma recursiva\n",
    "\n",
    "import os\n",
    "\n",
    "def listar_arquivos_recursivo(caminho):\n",
    "    print(f\"Entrando em: {caminho}\")\n",
    "    try:\n",
    "        for item in os.listdir(caminho):\n",
    "            caminho_completo = os.path.join(caminho, item)\n",
    "            if os.path.isdir(caminho_completo):\n",
    "                # Se for um diretório, chama a função recursivamente\n",
    "                listar_arquivos_recursivo(caminho_completo)\n",
    "            else:\n",
    "                # Se for um arquivo, imprime\n",
    "                print(f\"  Arquivo: {item}\")\n",
    "    except PermissionError:\n",
    "        print(f\"  Permissão negada para {caminho}\")\n",
    "    except FileNotFoundError:\n",
    "        print(f\"  Diretório não encontrado: {caminho}\")\n",
    "\n",
    "# Exemplo de uso (crie algumas pastas e arquivos de teste para ver funcionar!)\n",
    "# Crie uma estrutura assim:\n",
    "# pasta/\n",
    "# ├── arquivo1.txt\n",
    "# ├── subpasta/\n",
    "# │   ├── arquivo2.txt\n",
    "# │   └── subsubpasta/\n",
    "# │       └── arquivo3.txt\n",
    "# └── subpasta2/\n",
    "#     └── arquivo4.txt"
   ]
  },
  {
   "cell_type": "code",
   "execution_count": null,
   "id": "ce33de9c",
   "metadata": {},
   "outputs": [],
   "source": [
    "listar_arquivos_recursivo('pasta')"
   ]
  },
  {
   "cell_type": "code",
   "execution_count": null,
   "id": "52a8292f",
   "metadata": {},
   "outputs": [],
   "source": [
    "# Listar arquivos de forma iterativa, usando uma pilha como auxiliar\n",
    "\n",
    "import os\n",
    "\n",
    "def listar_arquivos_iterativo(caminho_inicial):\n",
    "    pilha = [caminho_inicial]\n",
    "\n",
    "    while pilha:\n",
    "        caminho_atual = pilha.pop()\n",
    "        print(f\"Entrando em: {caminho_atual}\")\n",
    "        try:\n",
    "            for item in os.listdir(caminho_atual):\n",
    "                caminho_completo = os.path.join(caminho_atual, item)\n",
    "                if os.path.isdir(caminho_completo):\n",
    "                    # Adiciona diretórios à pilha para processar depois\n",
    "                    pilha.append(caminho_completo)\n",
    "                else:\n",
    "                    print(f\"  Arquivo: {item}\")\n",
    "        except PermissionError:\n",
    "            print(f\"  Permissão negada para {caminho_atual}\")\n",
    "        except FileNotFoundError:\n",
    "            print(f\"  Diretório não encontrado: {caminho_atual}\")"
   ]
  },
  {
   "cell_type": "code",
   "execution_count": null,
   "id": "43889e9a",
   "metadata": {},
   "outputs": [],
   "source": [
    "listar_arquivos_iterativo('pasta')"
   ]
  },
  {
   "cell_type": "code",
   "execution_count": null,
   "id": "1fa00da3",
   "metadata": {},
   "outputs": [],
   "source": [
    "# Bonus: Usando função nativa do python: os.walk\n",
    "\n",
    "import os\n",
    "\n",
    "def listar_arquivos_com_os_walk(caminho_inicial):\n",
    "    for diretorio_atual, subdirs, arquivos in os.walk(caminho_inicial):\n",
    "        print(f\"Entrando em: {diretorio_atual}\")\n",
    "        for arquivo in arquivos:\n",
    "            print(f\"  Arquivo: {arquivo}\")"
   ]
  },
  {
   "cell_type": "code",
   "execution_count": null,
   "id": "f34e8881",
   "metadata": {},
   "outputs": [],
   "source": [
    "listar_arquivos_com_os_walk('pasta')"
   ]
  },
  {
   "cell_type": "markdown",
   "id": "475d9b1f",
   "metadata": {},
   "source": [
    "### Algoritmos de Ordenação (Ex: Quicksort, Mergesort)\n",
    "\n",
    "**Problema**: Ordenar uma lista de números.\n",
    "\n",
    "**Por que recursão é o melhor método?**\n",
    "Algoritmos como Quicksort e Mergesort utilizam a estratégia \"dividir para conquistar\". Eles dividem o problema grande (ordenar uma lista grande) em subproblemas menores (ordenar sublistas), e resolvem esses subproblemas recursivamente.\n",
    "\n",
    "**Caso Base**: Uma lista com 0 ou 1 elemento já está ordenada.\n",
    "\n",
    "**Passo Recursivo**: Divide a lista em duas (ou mais) partes, chama o algoritmo de ordenação recursivamente para cada parte, e depois combina os resultados.\n",
    "\n",
    "&nbsp;\n"
   ]
  },
  {
   "cell_type": "markdown",
   "id": "1d80c9ee",
   "metadata": {},
   "source": [
    "### Backtracking (Ex: Sudoku Solver, N-Queens)\n",
    "\n",
    "**Problema**: Encontrar uma solução para um problema testando várias opções e \"voltando atrás\" (backtracking) se uma opção não levar a uma solução.\n",
    "\n",
    "**Por que recursão é o melhor método?**\n",
    "Problemas de backtracking são naturalmente recursivos porque envolvem fazer uma escolha, tentar resolver o resto do problema com essa escolha, e se falhar, \"desfazer\" a escolha e tentar outra. Cada \"tentativa\" é um subproblema.\n",
    "\n",
    "**Caso Base**: Encontrou uma solução válida ou esgotou todas as possibilidades para um determinado ponto.\n",
    "\n",
    "**Passo Recursivo**: Faz uma escolha, chama a função recursivamente para o próximo passo. Se a chamada recursiva não retornar uma solução, \"desfaz\" a escolha e tenta a próxima.\n",
    "\n",
    "&nbsp;\n"
   ]
  },
  {
   "cell_type": "markdown",
   "id": "f518b561",
   "metadata": {},
   "source": [
    "## Considerações Finais\n",
    "\n",
    "- A recursão é uma ferramenta elegante e poderosa. \n",
    "- Nem sempre é a solução mais eficiente em termos de desempenho (especialmente memória, devido à pilha de chamadas). \n",
    "- Para problemas simples, uma solução iterativa é geralmente preferível.\n",
    "- Para problemas que naturalmente se dividem em subproblemas menores da mesma natureza, a recursão pode tornar seu código muito mais claro e conciso.\n",
    "\n",
    "A chave é sempre identificar o **caso base** e garantir que cada **passo recursivo** se aproxime dele."
   ]
  },
  {
   "cell_type": "markdown",
   "id": "ae7bafe6",
   "metadata": {},
   "source": [
    "&nbsp;\n",
    "\n",
    "------------------------------\n",
    "\n",
    "&nbsp;\n"
   ]
  },
  {
   "cell_type": "markdown",
   "id": "c7de3950",
   "metadata": {},
   "source": [
    "# Complexidade de algoritmos\n",
    "\n",
    "Vamos pensar em um algoritmo simples, de ordenação de elementos em uma lista. Quanto tempo leva para o computador fazer a ordenação de 10.000 números utilizando o algoritmo chamado **Bubble Sort**? E 100.000? E para ordenar 1 bilhão de números?\n",
    "\n",
    "Vamos escolher o exemplo do **Bubble Sort** porque ele tende a ser lento. \n",
    "\n",
    "Mas como sabemos que ele é lento? Aliás, ele é sempre lento? Existe algum caso em que valha a pena usar o **Bubble Sort** no lugar de algum outro? Como podemos responder a esses questionamentos? É aí que entra a noção de análise da complexidade de algoritmos."
   ]
  },
  {
   "cell_type": "markdown",
   "id": "85806fba",
   "metadata": {},
   "source": [
    "A \"complexidade\" é uma forma de medir o \"esforço\" necessário para fazer essa receita. Esse esforço pode ser medido de duas formas principais:\n",
    "\n",
    "Tempo: Quanto tempo leva para a receita ficar pronta?\n",
    "\n",
    "Espaço: De quanto espaço na cozinha (memória do computador) você precisa para preparar tudo?\n",
    "\n",
    "&nbsp;\n",
    "\n",
    "Vamos começar com um exemplo prático: ordenar uma pilha de provas de alunos em ordem alfabética. Um método simples seria o Bubble Sort."
   ]
  },
  {
   "cell_type": "code",
   "execution_count": null,
   "id": "0dc0d61c",
   "metadata": {},
   "outputs": [],
   "source": [
    "# Este é o algoritmo Bubble Sort. Ele funciona comparando pares de elementos adjacentes\n",
    "# e os trocando de lugar se estiverem na ordem errada. Ele repete esse processo\n",
    "# várias vezes até que a lista inteira esteja ordenada.\n",
    "# É como \"borbulhar\" os maiores valores para o final da lista.\n",
    "def bubble_sort(lista):\n",
    "    # O primeiro 'for' garante que vamos percorrer a lista inteira.\n",
    "    # A cada passagem completa, o maior elemento daquela porção da lista vai para sua posição correta.\n",
    "    for i in range(len(lista)):\n",
    "        # O segundo 'for' é o que faz as comparações e trocas em cada passagem.\n",
    "        for j in range(len(lista) - 1):\n",
    "            # Se o elemento atual for maior que o próximo...\n",
    "            if lista[j] > lista[j+1]:\n",
    "                # ...trocamos eles de lugar. Em Python, podemos fazer isso de forma simples.\n",
    "                lista[j], lista[j+1] = lista[j+1], lista[j]\n",
    "    return lista"
   ]
  },
  {
   "cell_type": "code",
   "execution_count": null,
   "id": "946d8e40",
   "metadata": {},
   "outputs": [],
   "source": [
    "# Esta é uma versão otimizada. Conseguem me descrever qual ou quais as otimizações, e por que elas são efetivas?\n",
    "def bubble_sort_otimizado(lista):\n",
    "    for i in range(len(lista)):\n",
    "        houve_troca = False\n",
    "        for j in range(len(lista) - 1 - i):\n",
    "            if lista[j] > lista[j+1]:\n",
    "                lista[j], lista[j+1] = lista[j+1], lista[j]\n",
    "                houve_troca = True\n",
    "        if not houve_troca:\n",
    "            break\n",
    "    return lista"
   ]
  },
  {
   "cell_type": "markdown",
   "id": "3134a0ad",
   "metadata": {},
   "source": [
    "O Bubble Sort é fácil de entender, mas se a pilha de provas for muito grande (milhares de alunos), ele se torna extremamente lento. Existem algoritmos muito mais eficientes, mas como podemos provar que um é \"melhor\" ou \"mais rápido\" que o outro sem ter que cronometrar cada um deles?"
   ]
  },
  {
   "cell_type": "markdown",
   "id": "4caf60c5",
   "metadata": {},
   "source": [
    "----------------------------"
   ]
  },
  {
   "cell_type": "markdown",
   "id": "db74706c",
   "metadata": {},
   "source": [
    "## Como analisamos um algoritmo?\n",
    "Existem duas maneiras principais:\n",
    "\n",
    "**Análise Empírica (O cronômetro)**: Rodar o código e medir o tempo de execução com um cronômetro.\n",
    "\n",
    "&nbsp;\n",
    "\n",
    "**Análise Analítica (A receita)**: Em vez de cozinhar, olhamos para a receita e contamos os \"passos\" (operações) que ela exige. Assim, conseguimos uma fórmula que nos diz como o esforço aumenta à medida que aumentamos os ingredientes (dados)."
   ]
  },
  {
   "cell_type": "markdown",
   "id": "4792ee44",
   "metadata": {},
   "source": [
    "----------------------------"
   ]
  },
  {
   "cell_type": "markdown",
   "id": "6713888a",
   "metadata": {},
   "source": [
    "### Complexidade de Tempo: Contando os passos\n",
    "A complexidade de tempo mede a quantidade de \"passos\" que um algoritmo leva para ser concluído. Um \"passo\" é uma operação fundamental do computador, como somar dois números, fazer uma comparação ou guardar um valor em uma variável.\n",
    "\n",
    "Vamos analisar um código simples que soma todos os números de uma lista."
   ]
  },
  {
   "cell_type": "code",
   "execution_count": null,
   "id": "f7b60ecc",
   "metadata": {},
   "outputs": [],
   "source": [
    "from random import sample\n",
    "\n",
    "# Gerar uma lista de 50 números aleatórios entre 0 e 200, sem repetições\n",
    "def gerar_lista_randomica_sem_repeticoes(qtde: int):\n",
    "    populacao = range(201) # range(201) vai de 0 a 200\n",
    "    minha_lista = sample(populacao, qtde) # sample escolhe uma quantidade de elementos únicos aleatórios\n",
    "    return minha_lista"
   ]
  },
  {
   "cell_type": "markdown",
   "id": "2f709638",
   "metadata": {},
   "source": [
    "#### Versão 1: Usando um laço (iterativo)"
   ]
  },
  {
   "cell_type": "code",
   "execution_count": null,
   "id": "5d32d774",
   "metadata": {},
   "outputs": [],
   "source": [
    "from typing import List\n",
    "\n",
    "def somatorio_iterativo(lista: List[int]):\n",
    "    # 1. A variável 'soma' é inicializada com 0. Isso acontece apenas uma vez.\n",
    "    soma = 0\n",
    "    # 2. O laço 'for' vai percorrer cada elemento da lista.\n",
    "    #    Se a lista tem 'n' elementos, este laço vai rodar 'n' vezes.\n",
    "    for i in lista:\n",
    "        # 3. A cada iteração, somamos o número atual à variável 'soma'.\n",
    "        soma += i\n",
    "    # 4. No final, retornamos o valor total. Isso acontece apenas uma vez.\n",
    "    return soma"
   ]
  },
  {
   "cell_type": "code",
   "execution_count": null,
   "id": "8ed63398",
   "metadata": {},
   "outputs": [],
   "source": [
    "# Somatório contando operações\n",
    "from typing import List\n",
    "\n",
    "def somatorio_iterativo_com_contagem(lista: List[int]):\n",
    "    cont_c = 0\n",
    "    cont_n = 0\n",
    "    \n",
    "    # Inicialização da soma, executada uma vez\n",
    "    soma = 0\n",
    "    cont_c += 1\n",
    "\n",
    "    # Inicialização da variável i, executada 1 vez\n",
    "    cont_c += 1\n",
    "    for i in lista: \n",
    "        # internamente, o python usa iteradores, mas podemos ler o for da seguinte forma:\n",
    "        # for i = 0; i < len(lista); i++\n",
    "        #   soma += lista[i]\n",
    "\n",
    "        # Comparação de i com o tamanho da lista, executada n vezes\n",
    "        cont_n += 1\n",
    "\n",
    "        # i++ é a mesma coisa que i = i + 1, portanto\n",
    "        # Leitura de i, executada n vezes\n",
    "        # Atribuição de i, executada n vezes\n",
    "        cont_n += 1\n",
    "        cont_n += 1\n",
    "\n",
    "        # Leitura de soma, executada n vezes\n",
    "        # Atribuição de soma, executada n vezes\n",
    "        cont_n += 1\n",
    "        cont_n += 1\n",
    "        soma += i\n",
    "    \n",
    "    # Retorno, executado 1 vez\n",
    "    cont_c += 1\n",
    "    print(f'T(som) = {cont_n}n + {cont_c}')\n",
    "    return soma"
   ]
  },
  {
   "cell_type": "code",
   "execution_count": null,
   "id": "de7843a4",
   "metadata": {},
   "outputs": [],
   "source": [
    "minha_lista = gerar_lista_randomica_sem_repeticoes(10)\n",
    "print(minha_lista)"
   ]
  },
  {
   "cell_type": "code",
   "execution_count": null,
   "id": "5cf81133",
   "metadata": {},
   "outputs": [],
   "source": [
    "print(somatorio_iterativo(minha_lista))"
   ]
  },
  {
   "cell_type": "code",
   "execution_count": null,
   "id": "395735a6",
   "metadata": {},
   "outputs": [],
   "source": [
    "print(somatorio_iterativo_com_contagem(minha_lista))"
   ]
  },
  {
   "cell_type": "code",
   "execution_count": null,
   "id": "4377b5da",
   "metadata": {},
   "outputs": [],
   "source": [
    "sum(minha_lista)"
   ]
  },
  {
   "cell_type": "markdown",
   "id": "c04d7074",
   "metadata": {},
   "source": [
    "Vamos pensar no esforço:\n",
    "\n",
    "Há um trabalho que é feito apenas uma vez (criar a variável soma e o return).\n",
    "Há um trabalho que é feito para cada elemento da lista (a soma `soma += i` dentro do laço).\n",
    "Se a lista tem `n` elementos, o tempo de execução será algo como: \n",
    "\n",
    "> (algumas operações constantes) + n * (operações dentro do laço)\n",
    "\n",
    "Isso resulta em uma função de crescimento linear. Se a lista dobrar de tamanho, o tempo de execução irá aproximadamente dobrar.\n"
   ]
  },
  {
   "cell_type": "markdown",
   "id": "34dd6c72",
   "metadata": {},
   "source": [
    "O número de passos de um algoritmo depende do tipo de instrução que compõe o algoritmo. \n",
    "\n",
    "- atribuições contam como um passo, \n",
    "- leituras contam como um passo, \n",
    "- em laços (`for`, `while`) contamos somente a parte de controle, descartando as operações internas do laço que não sejam atribuições, leituras etc. \n",
    "\n",
    "Para analisar melhor o algoritmo, vamos adicionar duas variáveis `cont_c` e `cont_n` para constar operações constantes e da instância, respectivamente."
   ]
  },
  {
   "cell_type": "markdown",
   "id": "fbfedeaa",
   "metadata": {},
   "source": [
    "#### Versão 2: Usando recursão"
   ]
  },
  {
   "cell_type": "code",
   "execution_count": null,
   "id": "8f27c13c",
   "metadata": {},
   "outputs": [],
   "source": [
    "from typing import List\n",
    "\n",
    "def somatorio_recursivo(lista: List[int]):\n",
    "    # Condição de parada (caso base): Se a lista estiver vazia, a soma é 0.\n",
    "    # Isso é essencial para que a função não chame a si mesma para sempre.\n",
    "    if len(lista) == 0:\n",
    "        return 0\n",
    "    \n",
    "    # Passo recursivo: A soma da lista é o primeiro elemento\n",
    "    # mais a soma do resto da lista (que é calculada pela própria função).\n",
    "    primeiro_elemento = lista[0]\n",
    "    resto_da_lista = lista[1:]\n",
    "    return primeiro_elemento + somatorio_recursivo(resto_da_lista)"
   ]
  },
  {
   "cell_type": "code",
   "execution_count": null,
   "id": "c2650fb7",
   "metadata": {},
   "outputs": [],
   "source": [
    "from typing import List\n",
    "\n",
    "def somatorio_recursivo_com_contagem(lista: List[int], cont_c: int = 0, cont_n: int = 0):\n",
    "    # Comparação do tamanho da lista com 0 (operada a cada chamada)\n",
    "    cont_n += 1 # Para a comparação `len(lista) == 0`\n",
    "\n",
    "    # Condição de parada (caso base): Se a lista estiver vazia, a soma é 0.\n",
    "    if len(lista) == 0:\n",
    "        cont_c += 1 # Retorno 0 (operação constante)\n",
    "        return 0, cont_c, cont_n # Retornamos a soma e os contadores\n",
    "    \n",
    "    # Passo recursivo: A soma da lista é o primeiro elemento\n",
    "    # mais a soma do resto da lista (que é calculada pela própria função).\n",
    "\n",
    "    # Acesso ao primeiro elemento (operado N vezes, uma por chamada recursiva, exceto no caso base)\n",
    "    cont_n += 1 \n",
    "    primeiro_elemento = lista[0]\n",
    "\n",
    "    # Criação da sub-lista (slicing) - pode ser O(N) em alguns Python, mas consideraremos O(1) amortizado para o propósito didático aqui\n",
    "    # Para listas grandes, o slicing pode ser mais custoso, mas focaremos nas chamadas recursivas\n",
    "    cont_n += 1 \n",
    "    resto_da_lista = lista[1:]\n",
    "\n",
    "    # Chamada recursiva, passamos os contadores atualizados\n",
    "    soma_resto, cont_c, cont_n = somatorio_recursivo(resto_da_lista, cont_c, cont_n)\n",
    "\n",
    "    # Soma e retorno (operações realizadas a cada \"retorno\" da recursão)\n",
    "    cont_n += 1 # A soma em si\n",
    "    cont_n += 1 # O retorno final da chamada\n",
    "\n",
    "    return primeiro_elemento + soma_resto, cont_c, cont_n"
   ]
  },
  {
   "cell_type": "code",
   "execution_count": null,
   "id": "08a47c0f",
   "metadata": {},
   "outputs": [],
   "source": [
    "minha_lista = gerar_lista_randomica_sem_repeticoes(10)\n",
    "print(minha_lista)"
   ]
  },
  {
   "cell_type": "code",
   "execution_count": null,
   "id": "a2d36bca",
   "metadata": {},
   "outputs": [],
   "source": [
    "print(somatorio_recursivo(minha_lista))"
   ]
  },
  {
   "cell_type": "code",
   "execution_count": null,
   "id": "49b72687",
   "metadata": {},
   "outputs": [],
   "source": [
    "print(somatorio_recursivo_com_contagem(minha_lista))"
   ]
  },
  {
   "cell_type": "code",
   "execution_count": null,
   "id": "0afc9830",
   "metadata": {},
   "outputs": [],
   "source": [
    "sum(minha_lista)"
   ]
  },
  {
   "cell_type": "markdown",
   "id": "04b0e73e",
   "metadata": {},
   "source": [
    "Neste caso, para uma lista de tamanho `n`, a função `somatorio_recursivo_com_contagem` será chamada `n vezes` até que a lista se esvazie. Cada chamada faz uma pequena quantidade de trabalho (pega o primeiro elemento, soma). Portanto, o tempo de execução também cresce de forma linear.\n",
    "\n",
    "Ambos os algoritmos parecem ter um tempo de execução similar. Mas será que eles são iguais? Para responder, precisamos analisar o outro lado da moeda."
   ]
  },
  {
   "cell_type": "markdown",
   "id": "4f997cf6",
   "metadata": {},
   "source": [
    "#### Complexidade de Espaço: A memória necessária\n",
    "\n",
    "Complexidade de espaço mede quanta memória extra um algoritmo precisa para executar.\n",
    "\n",
    "Vamos analisar nossos dois algoritmos de somatório novamente:"
   ]
  },
  {
   "cell_type": "markdown",
   "id": "8c4af038",
   "metadata": {},
   "source": [
    "#### Versão 1: Usando um laço (iterativo)"
   ]
  },
  {
   "cell_type": "code",
   "execution_count": null,
   "id": "fda10e57",
   "metadata": {},
   "outputs": [],
   "source": [
    "from typing import List\n",
    "\n",
    "def somatorio_iterativo(lista: List[int]):\n",
    "    # 1. A variável 'soma' é inicializada com 0. Isso acontece apenas uma vez.\n",
    "    soma = 0\n",
    "    # 2. O laço 'for' vai percorrer cada elemento da lista.\n",
    "    #    Se a lista tem 'n' elementos, este laço vai rodar 'n' vezes.\n",
    "    for i in lista:\n",
    "        # 3. A cada iteração, somamos o número atual à variável 'soma'.\n",
    "        soma += i\n",
    "    # 4. No final, retornamos o valor total. Isso acontece apenas uma vez.\n",
    "    return soma"
   ]
  },
  {
   "cell_type": "code",
   "execution_count": null,
   "id": "a88853b8",
   "metadata": {},
   "outputs": [],
   "source": [
    "import sys\n",
    "from typing import List\n",
    "\n",
    "def somatorio_iterativo_com_visualizacao_espaco(lista: List[int]):\n",
    "    print(\"\\n--- Análise de Espaço ---\")\n",
    "\n",
    "    # Espaço para a variável 'soma'\n",
    "    # 1. A variável 'soma' é inicializada com 0. Isso acontece apenas uma vez.\n",
    "    soma = 0\n",
    "\n",
    "    # Ao invés de contadores, vamos \"mostrar\" o espaço alocado\n",
    "    print(f\"Espaço para 'soma': {sys.getsizeof(soma)} bytes (tipo inteiro, constante)\")\n",
    "\n",
    "    # Espaço para a variável 'i' dentro do loop\n",
    "    # Esta variável é reutilizada a cada iteração, não aloca novo espaço a cada vez.\n",
    "    temp_i = None # Variável temporária para ilustrar o 'i' do loop\n",
    "    if lista: # Para garantir que 'i' seja inicializado se a lista não estiver vazia\n",
    "        temp_i = lista[0]\n",
    "    print(f\"Espaço para 'i' (variável de iteração): {sys.getsizeof(temp_i) if temp_i is not None else 0} bytes (reutilizado, constante)\")\n",
    "\n",
    "    print(\"\\nIniciando o cálculo do somatório...\")\n",
    "    soma = 0\n",
    "\n",
    "    # 2. O laço 'for' vai percorrer cada elemento da lista.\n",
    "    #    Se a lista tem 'n' elementos, este laço vai rodar 'n' vezes.\n",
    "    for i in lista:\n",
    "        # 3. A cada iteração, 'i' assume um novo valor com a soma, mas a \"caixa\" para 'i' é a mesma.\n",
    "        soma += i\n",
    "    \n",
    "    print(\"\\n--- Resultados Finais ---\")\n",
    "    print(f\"Soma total: {soma}\")\n",
    "    print(f\"Conclusão: O espaço adicional utilizado pelo algoritmo (para 'soma' e 'i')\")\n",
    "    print(f\"não cresce com o tamanho da lista de entrada. Ele é fixo, ou seja, O(1).\")\n",
    "    print(f\"A memória da própria lista não conta como 'espaço adicional' do algoritmo.\")\n",
    "\n",
    "    # 4. No final, retornamos o valor total. Isso acontece apenas uma vez.\n",
    "    return soma"
   ]
  },
  {
   "cell_type": "code",
   "execution_count": null,
   "id": "99c30b6c",
   "metadata": {},
   "outputs": [],
   "source": [
    "minha_lista = gerar_lista_randomica_sem_repeticoes(10)\n",
    "print(minha_lista)"
   ]
  },
  {
   "cell_type": "code",
   "execution_count": null,
   "id": "8a302a4c",
   "metadata": {},
   "outputs": [],
   "source": [
    "somatorio_iterativo_com_visualizacao_espaco(minha_lista)"
   ]
  },
  {
   "cell_type": "markdown",
   "id": "c5006822",
   "metadata": {},
   "source": [
    "Ele usa uma variável extra: soma. Não importa se a lista tem 10 ou 1 milhão de itens, ele sempre usará apenas essa variável extra. O espaço de memória adicional é constante."
   ]
  },
  {
   "cell_type": "markdown",
   "id": "f3badeaf",
   "metadata": {},
   "source": [
    "#### Versão 2: Usando recursão"
   ]
  },
  {
   "cell_type": "markdown",
   "id": "5f947dfd",
   "metadata": {},
   "source": [
    "Cada vez que a função chama a si mesma, o computador precisa guardar na memória o estado da chamada atual para poder voltar a ela mais tarde. Isso é chamado de pilha de chamadas.\n",
    "\n",
    "Se a lista tem `n` elementos, haverá `n` chamadas de função empilhadas na memória! \n",
    "\n",
    "Para uma lista de 3 itens `[10, 20, 30]`, a pilha ficará assim:\n",
    "\n",
    "> somatorio_recursivo([10, 20, 30]) chama\n",
    ">\n",
    "> somatorio_recursivo([20, 30]) chama\n",
    ">\n",
    "> somatorio_recursivo([30]) chama\n",
    ">\n",
    "> somatorio_recursivo([]) -> retorna 0\n",
    "\n",
    "O espaço de memória adicional cresce linearmente com o tamanho da entrada."
   ]
  },
  {
   "cell_type": "code",
   "execution_count": null,
   "id": "16b0e452",
   "metadata": {},
   "outputs": [],
   "source": [
    "import sys\n",
    "from typing import List\n",
    "\n",
    "# Variável global para simular a profundidade da pilha de chamadas\n",
    "# e o \"espaço extra\" alocado a cada chamada recursiva.\n",
    "# IMPORTANTE: Em um ambiente real, esta não é a forma exata de medir,\n",
    "# mas serve para ilustrar o conceito didaticamente.\n",
    "_profundidade_pilha_atual = 0\n",
    "_max_profundidade_pilha = 0\n",
    "_espaco_por_frame_simulado = 0 # Valor fictício para ilustrar. Um frame real tem mais.\n",
    "\n",
    "def somatorio_recursivo_com_visualizacao_espaco(lista: List[int]):\n",
    "    global _profundidade_pilha_atual\n",
    "    global _max_profundidade_pilha\n",
    "    global _espaco_por_frame_simulado\n",
    "\n",
    "    # Incrementa a profundidade da pilha simulada para esta chamada\n",
    "    _profundidade_pilha_atual += 1\n",
    "    _max_profundidade_pilha = max(_max_profundidade_pilha, _profundidade_pilha_atual)\n",
    "\n",
    "    # Exemplo de variáveis locais que ocupam espaço neste frame\n",
    "    local_soma = 0\n",
    "    local_primeiro_elemento = None\n",
    "    local_resto_da_lista = []\n",
    "\n",
    "    # Se esta é a primeira chamada (profundidade 1), inicializa a contagem de espaço por frame\n",
    "    if _profundidade_pilha_atual == 1 and len(lista) > 0:\n",
    "        # Medimos o tamanho de algumas variáveis locais para estimar o \"frame\"\n",
    "        # Isso é uma SIMULAÇÃO, não o tamanho real do frame da pilha!\n",
    "        _espaco_por_frame_simulado = sys.getsizeof(local_soma) + sys.getsizeof(local_primeiro_elemento) + sys.getsizeof(local_resto_da_lista)\n",
    "        print(f\"\\n--- Análise de Espaço (Função Recursiva Simplificada) ---\")\n",
    "        print(f\"Espaço simulado por 'frame' da pilha: ~{_espaco_por_frame_simulado} bytes\")\n",
    "        print(f\"Cada chamada recursiva adiciona um novo 'frame' à pilha.\")\n",
    "\n",
    "    # Condição de parada (caso base): Se a lista estiver vazia, a soma é 0.\n",
    "    if len(lista) == 0:\n",
    "        # Quando a recursão \"retorna\", o frame é removido da pilha\n",
    "        _profundidade_pilha_atual -= 1\n",
    "        return 0\n",
    "    \n",
    "    # Passo recursivo\n",
    "    local_primeiro_elemento = lista[0]\n",
    "    local_resto_da_lista = lista[1:] # Cria uma nova lista, contribuindo para o espaço!\n",
    "\n",
    "    # A chamada recursiva\n",
    "    soma_resto = somatorio_recursivo_com_visualizacao_espaco(local_resto_da_lista)\n",
    "\n",
    "    # Quando a chamada recursiva retorna, este frame será \"desempilhado\"\n",
    "    _profundidade_pilha_atual -= 1\n",
    "\n",
    "    return local_primeiro_elemento + soma_resto\n",
    "\n",
    "# --- Função auxiliar para resetar os contadores e chamar o somatório ---\n",
    "def executar_somatorio_recursivo_e_analisar_espaco(lista: List[int]):\n",
    "    global _profundidade_pilha_atual\n",
    "    global _max_profundidade_pilha\n",
    "    global _espaco_por_frame_simulado\n",
    "\n",
    "    _profundidade_pilha_atual = 0\n",
    "    _max_profundidade_pilha = 0\n",
    "    _espaco_por_frame_simulado = 0\n",
    "\n",
    "    soma_total = somatorio_recursivo_com_visualizacao_espaco(lista)\n",
    "\n",
    "    print(\"\\n--- Resultados Finais ---\")\n",
    "    print(f\"Soma total: {soma_total}\")\n",
    "    print(f\"Profundidade máxima simulada da pilha: {_max_profundidade_pilha}\")\n",
    "    print(f\"Espaço extra total estimado (profundidade * espaço por frame): ~{_max_profundidade_pilha * _espaco_por_frame_simulado} bytes\")\n",
    "    print(f\"Conclusão: O espaço adicional utilizado pelo algoritmo recursivo (principalmente a pilha de chamadas e as sublistas criadas)\")\n",
    "    print(f\"cresce proporcionalmente ao tamanho da lista de entrada (N). Ou seja, sua complexidade de espaço é O(N).\")"
   ]
  },
  {
   "cell_type": "code",
   "execution_count": null,
   "id": "6d73fb7c",
   "metadata": {},
   "outputs": [],
   "source": [
    "minha_lista = gerar_lista_randomica_sem_repeticoes(3)\n",
    "print(minha_lista)"
   ]
  },
  {
   "cell_type": "code",
   "execution_count": null,
   "id": "b7b66792",
   "metadata": {},
   "outputs": [],
   "source": [
    "executar_somatorio_recursivo_e_analisar_espaco(minha_lista)"
   ]
  },
  {
   "cell_type": "markdown",
   "id": "dc5f891e",
   "metadata": {},
   "source": [
    "#### Conclusão da análise:\n",
    "\n",
    "Para este problema, a versão iterativa é melhor. Embora ambas tenham tempo de execução linear, a versão iterativa usa uma quantidade constante de memória, enquanto a versão recursiva pode consumir muita memória e até causar um erro de \"estouro de pilha\" (Stack Overflow) se a lista for muito grande."
   ]
  },
  {
   "cell_type": "markdown",
   "id": "a596e57b",
   "metadata": {},
   "source": [
    "----------------------------"
   ]
  },
  {
   "cell_type": "markdown",
   "id": "4f0158dc",
   "metadata": {},
   "source": [
    "## Análise Assintótica\n",
    "\n",
    "Quando analisamos funções de crescimento como `T(n) = 5n + 3 (um exemplo de função de tempo)`, o que realmente importa quando `n` fica muito, muito grande?\n",
    "\n",
    "Imagine que você está planejando uma viagem longa.\n",
    "\n",
    "O tempo total é `(tempo dirigindo) + (tempo parado para lanches)`.\n",
    "\n",
    "Se a viagem for de Porto Alegre ao Alasca (`n é gigante`), o tempo que você gasta nas paradas (`+ 3 horas`) é insignificante comparado ao tempo total dirigindo (`5n horas`).\n",
    "\n",
    "A Análise Assintótica nos permite ignorar as partes menos importantes (as constantes, como `+3`) e focar no termo que mais cresce com `n`.\n",
    "\n",
    "Usamos uma notação especial para isso."
   ]
  },
  {
   "cell_type": "markdown",
   "id": "73982c36",
   "metadata": {},
   "source": [
    "### Big-O (O): O limite superior (pior cenário)\n",
    "\n",
    "Big-O é a notação mais usada. Ela descreve o pior cenário possível para um algoritmo.\n",
    "\n",
    "Big-O é como perguntar ao Waze: \"Qual é o tempo máximo que vou levar para chegar, considerando o pior trânsito possível?\". Ele te dá um limite superior. Você pode chegar antes, mas o Waze garante que não vai demorar mais do que aquilo.\n",
    "\n",
    "Para nosso somatório, com tempo `T(n)` linear, dizemos que sua complexidade é `O(n)` (lê-se \"O de n\"). Estamos dizendo que, no pior caso, o tempo de execução cresce de forma linear com a entrada.\n",
    "\n",
    "Observem o gráfico abaixo:\n",
    " \n",
    "![Big-O](https://s3-sa-east-1.amazonaws.com/lcpi/b24992cb-45de-4516-ad16-178f8e28f2fc.png)\n",
    " \n",
    "A linha azul demonstra o comportamento do nosso algoritmo `T`<sub>`(som)`</sub>` = 5n + 3` à medida que `n` tende ao infinito, enquanto a linha púrpura é o limite superior O(n).\n",
    "\n",
    "&nbsp;"
   ]
  },
  {
   "cell_type": "markdown",
   "id": "2aff5fdd",
   "metadata": {},
   "source": [
    "\n",
    "### Big-Ômega (<img src=\"https://i.upmath.me/svg/%5COmega\" alt=\"\\Omega\" style=\"background:white\"/>): O limite inferior (melhor cenário)\n",
    "Big-Ômega descreve o melhor cenário possível.\n",
    "\n",
    "É como perguntar: \"Qual é o tempo mínimo que vou levar, se eu pegar todas as ruas vazias e sinais verdes?\". Você sabe que é impossível chegar mais rápido que isso.\n",
    "\n",
    "Para nosso somatório, que precisa olhar cada elemento, o melhor caso também é percorrer a lista toda. Então, sua complexidade também é \n",
    "<img src=\"https://i.upmath.me/svg/%5COmega\" alt=\"\\Omega\" style=\"background:white\"/>(n).\n",
    "\n",
    "Observem o gráfico abaixo:\n",
    " \n",
    "![Big-Ômega](https://s3-sa-east-1.amazonaws.com/lcpi/843a7373-fdb3-48a0-bcb8-87ba8cd9ff21.png)\n",
    " \n",
    "A linha azul demonstra o comportamento do nosso algoritmo `T`<sub>`(som)`</sub>` = 5n + 3` à medida que `n` tende ao infinito, enquanto a linha laranja é o limite inferior Ômega<img src=\"https://i.upmath.me/svg/%20%5COmega%20\" alt=\" \\Omega \" style=\"background:white\"/>(n)\n",
    "\n",
    "&nbsp;\n"
   ]
  },
  {
   "cell_type": "markdown",
   "id": "624de09d",
   "metadata": {},
   "source": [
    "### Big-Theta (<img src=\"https://i.upmath.me/svg/%20%5CTheta%20\" alt=\"\\Theta\" style=\"background:white\"/>): O limite \"justo\" (caso realista)\n",
    "\n",
    "Big-Theta é usado quando o melhor e o pior caso são iguais. Ele nos dá um limite \"justo\" e preciso do comportamento do algoritmo.\n",
    "\n",
    "Se o tempo mínimo para chegar é 25 minutos (<img src=\"https://i.upmath.me/svg/%5COmega\" alt=\"\\Omega\" style=\"background:white\"/>) e o máximo é 35 minutos (O), você pode dizer que a viagem leva \"cerca de 30 minutos\". Quando o melhor e o pior caso são iguais, como em nosso somatório, podemos dizer que o tempo de viagem é <img src=\"https://i.upmath.me/svg/%20%5CTheta%20\" alt=\"\\Theta\" style=\"background:white\"/>(n).\n",
    "\n",
    "Observem o gráfico abaixo:\n",
    " \n",
    "![Big-Theta](https://s3-sa-east-1.amazonaws.com/lcpi/1dbd3101-dffc-4961-943f-83c9c86d499f.png)\n",
    " \n",
    " \n",
    "A linha azul demonstra o comportamento do nosso algoritmo `T`<sub>`(som)`</sub>` = 5n + 3` à medida que `n` tende ao infinito, enquanto a linha púrpura é o limite superior O(n) e a linha laranja é o limite inferior Ômega <img src=\"https://i.upmath.me/svg/%20%5COmega%20\" alt=\" \\Omega \" style=\"background:white\"/>(n)\n",
    "\n",
    "&nbsp;\n"
   ]
  },
  {
   "cell_type": "markdown",
   "id": "ffdc5814",
   "metadata": {},
   "source": [
    "### Qual devemos considerar quando analisamos um algoritmo?\n",
    "\n",
    "Na engenharia de software, geralmente nos preocupamos com o **pior cenário**. Queremos dar garantias ao nosso usuário e saber qual é o desempenho máximo que nosso sistema precisará suportar.\n",
    "\n",
    "Nesse caso, normalmente usamos o Big-O.\n",
    "\n",
    "&nbsp;\n"
   ]
  },
  {
   "cell_type": "markdown",
   "id": "d6056251",
   "metadata": {},
   "source": [
    "### Ordens de crescimento comuns\n",
    "Aqui estão algumas \"famílias\" de complexidade, da mais rápida (melhor) para a mais lenta (pior)."
   ]
  },
  {
   "cell_type": "markdown",
   "id": "ca773861",
   "metadata": {},
   "source": [
    "| Big-O | Designação | Analogia (Tempo de execução) |\n",
    "------- | ---------- | -----------------------------|\n",
    "| O(1) | Constante | Pegar o primeiro item de uma lista. Não importa o tamanho, é sempre uma ação.| \n",
    "| O(log n) | Logarítmica | Procurar um nome numa lista telefônica. Você abre no meio e descarta metade a cada passo.| \n",
    "| O(n) | Linear | Ler um livro do início ao fim. O tempo depende diretamente do número de páginas.| \n",
    "| O(n log n) | Log-Linear | Ordenar um baralho de cartas com um método eficiente (como o Merge Sort).| \n",
    "| O(n2) | Quadrática | O nosso Bubble Sort! Comparar cada prova com todas as outras provas da pilha.| \n",
    "| O(2n) | Exponencial | Tentar adivinhar uma senha. Para cada caractere a mais, o esforço dobra. Fica inviável muito rápido.| "
   ]
  },
  {
   "cell_type": "markdown",
   "id": "c4226dba",
   "metadata": {},
   "source": [
    "Imagem comparativa\n",
    "\n",
    "<img src=https://s3-sa-east-1.amazonaws.com/lcpi/44c9236f-0c7f-486e-9c73-24a08b582051.png width=600>"
   ]
  },
  {
   "cell_type": "markdown",
   "id": "793a1d43",
   "metadata": {},
   "source": [
    "Como podemos ver no gráfico, escolher um algoritmo com uma ordem de crescimento menor (mais para baixo e para a direita no gráfico) pode fazer uma diferença gigantesca no desempenho da nossa aplicação, especialmente quando lidamos com grandes volumes de dados."
   ]
  }
 ],
 "metadata": {
  "kernelspec": {
   "display_name": "Python 3",
   "language": "python",
   "name": "python3"
  },
  "language_info": {
   "codemirror_mode": {
    "name": "ipython",
    "version": 3
   },
   "file_extension": ".py",
   "mimetype": "text/x-python",
   "name": "python",
   "nbconvert_exporter": "python",
   "pygments_lexer": "ipython3",
   "version": "3.13.5"
  }
 },
 "nbformat": 4,
 "nbformat_minor": 5
}
