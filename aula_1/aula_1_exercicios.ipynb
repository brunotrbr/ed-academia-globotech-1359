{
 "cells": [
  {
   "cell_type": "markdown",
   "metadata": {},
   "source": [
    "# Exercícios"
   ]
  },
  {
   "cell_type": "markdown",
   "metadata": {},
   "source": [
    "## Pilha"
   ]
  },
  {
   "cell_type": "code",
   "execution_count": null,
   "metadata": {},
   "outputs": [],
   "source": [
    "from typing import Any, List\n",
    "\n",
    "\n",
    "class Pilha:\n",
    "    \"\"\"\n",
    "    Implementa uma estrutura de dados de Pilha (LIFO - Last-In, First-Out).\n",
    "    Os elementos são adicionados (push) e removidos (pop) do topo da pilha.\n",
    "    \"\"\"\n",
    "    def __init__(self) -> None:\n",
    "        \"\"\"\n",
    "        Inicializa uma nova pilha vazia.\n",
    "        A pilha é internamente representada por uma lista privada.\n",
    "        \"\"\"\n",
    "        self.__dados: List[Any] = []\n",
    "\n",
    "    def empilhar(self, item: Any) -> None:\n",
    "        \"\"\"\n",
    "        Adiciona um item ao topo da pilha (push).\n",
    "\n",
    "        Args:\n",
    "            item (Any): O item a ser adicionado à pilha.\n",
    "        \"\"\"\n",
    "        self.__dados.append(item)\n",
    "\n",
    "    def desempilhar(self) -> Any:\n",
    "        \"\"\"\n",
    "        Remove e retorna o item do topo da pilha (pop).\n",
    "\n",
    "        Raises:\n",
    "            IndexError: Se a pilha estiver vazia ao tentar desempilhar.\n",
    "\n",
    "        Returns:\n",
    "            Any: O item removido do topo da pilha.\n",
    "        \"\"\"\n",
    "        if not self.__dados:\n",
    "            raise IndexError(\"desempilhar de pilha vazia\")\n",
    "\n",
    "        return self.__dados.pop()\n",
    "    \n",
    "    def desempilhar_retorna_none_se_pilha_vazia(self) -> Any:\n",
    "        \"\"\"\n",
    "        Remove e retorna o item do topo da pilha (pop).\n",
    "\n",
    "        Returns:\n",
    "            Any: O item removido do topo da pilha.\n",
    "            None: Se a pilha estiver vazia ao tentar desempilhar.\n",
    "        \"\"\"\n",
    "        if not self.__dados:\n",
    "            return None\n",
    "\n",
    "        return self.__dados.pop()\n",
    "\n",
    "    def espiar(self) -> Any:\n",
    "        \"\"\"\n",
    "        Retorna o item do topo da pilha sem removê-lo (peek).\n",
    "\n",
    "        Raises:\n",
    "            IndexError: Se a pilha estiver vazia ao tentar espiar.\n",
    "\n",
    "        Returns:\n",
    "            Any: O item no topo da pilha.\n",
    "        \"\"\"\n",
    "        if not self.__dados:\n",
    "            raise IndexError(\"espiar de pilha vazia\")\n",
    "\n",
    "        return self.__dados[-1]\n",
    "\n",
    "    def esta_vazia(self) -> bool:\n",
    "        \"\"\"\n",
    "        Verifica se a pilha está vazia.\n",
    "\n",
    "        Returns:\n",
    "            bool: True se a pilha estiver vazia, False caso contrário.\n",
    "        \"\"\"\n",
    "        return not self.__dados\n",
    "\n",
    "    def __len__(self) -> int:\n",
    "        \"\"\"\n",
    "        Retorna o número de itens na pilha.\n",
    "        Permite usar len(pilha_obj).\n",
    "        \"\"\"\n",
    "        return len(self.__dados)\n",
    "\n",
    "    def __bool__(self) -> bool:\n",
    "        \"\"\"\n",
    "        Retorna True se a pilha não estiver vazia, False caso contrário.\n",
    "        Permite usar 'if pilha_obj:' para verificar se está vazia.\n",
    "        \"\"\"\n",
    "        return bool(self.__dados)"
   ]
  },
  {
   "cell_type": "code",
   "execution_count": null,
   "metadata": {},
   "outputs": [
    {
     "name": "stdout",
     "output_type": "stream",
     "text": [
      "1\n",
      "False\n"
     ]
    }
   ],
   "source": [
    "p = Pilha()\n",
    "p.empilhar(1)\n",
    "teste = p.desempilhar() # Trataria com try-except\n",
    "print(teste)\n",
    "teste = p.desempilhar_retorna_none_se_pilha_vazia() # Trataria com if-else\n",
    "if teste:\n",
    "    print(teste)"
   ]
  },
  {
   "attachments": {},
   "cell_type": "markdown",
   "metadata": {},
   "source": [
    "### Exercício_1\n",
    "\n",
    "Inverter uma String Usando a Pilha\n",
    "\n",
    "&nbsp;\n",
    "\n",
    "#### Objetivo:\n",
    "\n",
    "Utilizar a classe Pilha para inverter a ordem dos caracteres em uma string. Crie uma função que utilize a pilha para inverter a ordem dos caracteres de uma string.\n",
    "\n",
    "&nbsp;\n",
    "\n",
    "#### Contexto:\n",
    "\n",
    "Inverter uma string é um problema clássico de ciência da computação que demonstra bem o princípio LIFO (Last-In, First-Out) de uma pilha"
   ]
  },
  {
   "cell_type": "code",
   "execution_count": null,
   "metadata": {},
   "outputs": [],
   "source": [
    "def inverter_string(text: str) -> str:\n",
    "    # escreva aqui sua implementação\n",
    "    pass"
   ]
  },
  {
   "cell_type": "code",
   "execution_count": null,
   "metadata": {},
   "outputs": [],
   "source": [
    "print(inverter_string(\"Python\"))      # Saída: nohtyP\n",
    "print(inverter_string(\"Development\")) # Saída: tnemivpoleveD\n",
    "print(inverter_string(\"Hello World\")) # Saída: dlroW olleH\n",
    "print(inverter_string(\"\"))            # Saída:"
   ]
  },
  {
   "cell_type": "markdown",
   "metadata": {},
   "source": [
    "## Fila"
   ]
  },
  {
   "cell_type": "markdown",
   "metadata": {},
   "source": [
    "### Exercício_2\n",
    "\n",
    "É palíndromo?\n",
    "\n",
    "&nbsp;\n",
    "\n",
    "#### Objetivo:\n",
    "\n",
    "Usar o deque com `appendleft()` e `pop()` para verificar se uma palavra é um palíndromo (lê-se igual de trás para frente e de frente para trás).\n",
    "\n",
    "&nbsp;\n",
    "\n",
    "#### Contexto:\n",
    "\n",
    "Um palíndromo é uma palavra como \"ovo\" ou \"arara\". Para verificar isso com um deque e as restrições dadas, você precisará pensar em como manipular os caracteres."
   ]
  },
  {
   "cell_type": "code",
   "execution_count": null,
   "metadata": {},
   "outputs": [],
   "source": [
    "from collections import deque\n",
    "from typing import Deque\n",
    "\n",
    "def eh_palindromo(texto: str) -> bool:\n",
    "    # escreva aqui sua implementação\n",
    "    pass"
   ]
  },
  {
   "cell_type": "code",
   "execution_count": null,
   "metadata": {},
   "outputs": [],
   "source": [
    "print(f\"'arara' é palíndromo? {eh_palindromo('arara')}\")          # Esperado: True\n",
    "print(f\"'Ovo' é palíndromo? {eh_palindromo('Ovo')}\")              # Esperado: True\n",
    "print(f\"'Ame a ema' é palíndromo? {eh_palindromo('Ame a ema')}\") # Esperado: True\n",
    "print(f\"'Python' é palíndromo? {eh_palindromo('Python')}\")       # Esperado: False\n",
    "print(f\"'' é palíndromo? {eh_palindromo('')}\")                   # Esperado: True\n",
    "print(f\"'a' é palíndromo? {eh_palindromo('a')}\")                 # Esperado: True\n",
    "print(f\"'racecar' é palíndromo? {eh_palindromo('racecar')}\")     # Esperado: True\n",
    "print(f\"'hello' é palíndromo? {eh_palindromo('hello')}\")         # Esperado: False"
   ]
  }
 ],
 "metadata": {
  "kernelspec": {
   "display_name": "Python 3",
   "language": "python",
   "name": "python3"
  },
  "language_info": {
   "codemirror_mode": {
    "name": "ipython",
    "version": 3
   },
   "file_extension": ".py",
   "mimetype": "text/x-python",
   "name": "python",
   "nbconvert_exporter": "python",
   "pygments_lexer": "ipython3",
   "version": "3.13.3"
  },
  "orig_nbformat": 4,
  "vscode": {
   "interpreter": {
    "hash": "42478136ef40f8edd3f4cf991c33cffcfc620a666d0dc328e82cc0ef4d7b2c04"
   }
  }
 },
 "nbformat": 4,
 "nbformat_minor": 2
}
